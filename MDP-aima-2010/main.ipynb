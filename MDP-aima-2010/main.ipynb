{
  "nbformat": 4,
  "nbformat_minor": 0,
  "metadata": {
    "colab": {
      "name": "main.ipynb",
      "provenance": [],
      "collapsed_sections": []
    },
    "kernelspec": {
      "name": "python3",
      "display_name": "Python 3"
    },
    "language_info": {
      "name": "python"
    },
    "widgets": {
      "application/vnd.jupyter.widget-state+json": {
        "e0e0fc98c3ee420787ac53a4700331b6": {
          "model_module": "@jupyter-widgets/controls",
          "model_name": "VBoxModel",
          "model_module_version": "1.5.0",
          "state": {
            "_dom_classes": [
              "widget-interact"
            ],
            "_model_module": "@jupyter-widgets/controls",
            "_model_module_version": "1.5.0",
            "_model_name": "VBoxModel",
            "_view_count": null,
            "_view_module": "@jupyter-widgets/controls",
            "_view_module_version": "1.5.0",
            "_view_name": "VBoxView",
            "box_style": "",
            "children": [
              "IPY_MODEL_804ef5471fb84ea7aff7b540ed456999",
              "IPY_MODEL_71d7b21cc5f645b5b615861e773e1388"
            ],
            "layout": "IPY_MODEL_e9cbf35e9f7144ae8911f54644271093"
          }
        },
        "804ef5471fb84ea7aff7b540ed456999": {
          "model_module": "@jupyter-widgets/controls",
          "model_name": "IntSliderModel",
          "model_module_version": "1.5.0",
          "state": {
            "_dom_classes": [],
            "_model_module": "@jupyter-widgets/controls",
            "_model_module_version": "1.5.0",
            "_model_name": "IntSliderModel",
            "_view_count": null,
            "_view_module": "@jupyter-widgets/controls",
            "_view_module_version": "1.5.0",
            "_view_name": "IntSliderView",
            "continuous_update": true,
            "description": "iteration",
            "description_tooltip": null,
            "disabled": false,
            "layout": "IPY_MODEL_55bdb80950d94c8da03036867c68201a",
            "max": 15,
            "min": 1,
            "orientation": "horizontal",
            "readout": true,
            "readout_format": "d",
            "step": 1,
            "style": "IPY_MODEL_e5a4828d791e4b4c8a7322ac553d0600",
            "value": 1
          }
        },
        "71d7b21cc5f645b5b615861e773e1388": {
          "model_module": "@jupyter-widgets/output",
          "model_name": "OutputModel",
          "model_module_version": "1.0.0",
          "state": {
            "_dom_classes": [],
            "_model_module": "@jupyter-widgets/output",
            "_model_module_version": "1.0.0",
            "_model_name": "OutputModel",
            "_view_count": null,
            "_view_module": "@jupyter-widgets/output",
            "_view_module_version": "1.0.0",
            "_view_name": "OutputView",
            "layout": "IPY_MODEL_d20bf5fb13c74c13abd1208664a08102",
            "msg_id": "",
            "outputs": [
              {
                "output_type": "display_data",
                "data": {
                  "text/plain": "<Figure size 432x288 with 1 Axes>",
                  "image/png": "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\n"
                },
                "metadata": {
                  "needs_background": "light"
                }
              }
            ]
          }
        },
        "e9cbf35e9f7144ae8911f54644271093": {
          "model_module": "@jupyter-widgets/base",
          "model_name": "LayoutModel",
          "model_module_version": "1.2.0",
          "state": {
            "_model_module": "@jupyter-widgets/base",
            "_model_module_version": "1.2.0",
            "_model_name": "LayoutModel",
            "_view_count": null,
            "_view_module": "@jupyter-widgets/base",
            "_view_module_version": "1.2.0",
            "_view_name": "LayoutView",
            "align_content": null,
            "align_items": null,
            "align_self": null,
            "border": null,
            "bottom": null,
            "display": null,
            "flex": null,
            "flex_flow": null,
            "grid_area": null,
            "grid_auto_columns": null,
            "grid_auto_flow": null,
            "grid_auto_rows": null,
            "grid_column": null,
            "grid_gap": null,
            "grid_row": null,
            "grid_template_areas": null,
            "grid_template_columns": null,
            "grid_template_rows": null,
            "height": null,
            "justify_content": null,
            "justify_items": null,
            "left": null,
            "margin": null,
            "max_height": null,
            "max_width": null,
            "min_height": null,
            "min_width": null,
            "object_fit": null,
            "object_position": null,
            "order": null,
            "overflow": null,
            "overflow_x": null,
            "overflow_y": null,
            "padding": null,
            "right": null,
            "top": null,
            "visibility": null,
            "width": null
          }
        },
        "55bdb80950d94c8da03036867c68201a": {
          "model_module": "@jupyter-widgets/base",
          "model_name": "LayoutModel",
          "model_module_version": "1.2.0",
          "state": {
            "_model_module": "@jupyter-widgets/base",
            "_model_module_version": "1.2.0",
            "_model_name": "LayoutModel",
            "_view_count": null,
            "_view_module": "@jupyter-widgets/base",
            "_view_module_version": "1.2.0",
            "_view_name": "LayoutView",
            "align_content": null,
            "align_items": null,
            "align_self": null,
            "border": null,
            "bottom": null,
            "display": null,
            "flex": null,
            "flex_flow": null,
            "grid_area": null,
            "grid_auto_columns": null,
            "grid_auto_flow": null,
            "grid_auto_rows": null,
            "grid_column": null,
            "grid_gap": null,
            "grid_row": null,
            "grid_template_areas": null,
            "grid_template_columns": null,
            "grid_template_rows": null,
            "height": null,
            "justify_content": null,
            "justify_items": null,
            "left": null,
            "margin": null,
            "max_height": null,
            "max_width": null,
            "min_height": null,
            "min_width": null,
            "object_fit": null,
            "object_position": null,
            "order": null,
            "overflow": null,
            "overflow_x": null,
            "overflow_y": null,
            "padding": null,
            "right": null,
            "top": null,
            "visibility": null,
            "width": null
          }
        },
        "e5a4828d791e4b4c8a7322ac553d0600": {
          "model_module": "@jupyter-widgets/controls",
          "model_name": "SliderStyleModel",
          "model_module_version": "1.5.0",
          "state": {
            "_model_module": "@jupyter-widgets/controls",
            "_model_module_version": "1.5.0",
            "_model_name": "SliderStyleModel",
            "_view_count": null,
            "_view_module": "@jupyter-widgets/base",
            "_view_module_version": "1.2.0",
            "_view_name": "StyleView",
            "description_width": "",
            "handle_color": null
          }
        },
        "d20bf5fb13c74c13abd1208664a08102": {
          "model_module": "@jupyter-widgets/base",
          "model_name": "LayoutModel",
          "model_module_version": "1.2.0",
          "state": {
            "_model_module": "@jupyter-widgets/base",
            "_model_module_version": "1.2.0",
            "_model_name": "LayoutModel",
            "_view_count": null,
            "_view_module": "@jupyter-widgets/base",
            "_view_module_version": "1.2.0",
            "_view_name": "LayoutView",
            "align_content": null,
            "align_items": null,
            "align_self": null,
            "border": null,
            "bottom": null,
            "display": null,
            "flex": null,
            "flex_flow": null,
            "grid_area": null,
            "grid_auto_columns": null,
            "grid_auto_flow": null,
            "grid_auto_rows": null,
            "grid_column": null,
            "grid_gap": null,
            "grid_row": null,
            "grid_template_areas": null,
            "grid_template_columns": null,
            "grid_template_rows": null,
            "height": null,
            "justify_content": null,
            "justify_items": null,
            "left": null,
            "margin": null,
            "max_height": null,
            "max_width": null,
            "min_height": null,
            "min_width": null,
            "object_fit": null,
            "object_position": null,
            "order": null,
            "overflow": null,
            "overflow_x": null,
            "overflow_y": null,
            "padding": null,
            "right": null,
            "top": null,
            "visibility": null,
            "width": null
          }
        }
      }
    }
  },
  "cells": [
    {
      "cell_type": "markdown",
      "source": [
        "# Making Complex Decision"
      ],
      "metadata": {
        "id": "X9Qy6ZORO8Bz"
      }
    },
    {
      "cell_type": "markdown",
      "source": [
        "Reference:\n",
        "*   Stuart Russell and Peter Norvig. Artificial Intelligence: A Modern Approach. 3rd Ed. (Ch. 17) [here](http://aima.cs.berkeley.edu/3rd-ed/)\n",
        "\n"
      ],
      "metadata": {
        "id": "dzpqwyB6MVyh"
      }
    },
    {
      "cell_type": "markdown",
      "source": [
        "## Overview"
      ],
      "metadata": {
        "id": "Fg6mY8wbPBf4"
      }
    },
    {
      "cell_type": "markdown",
      "source": [
        "- A stochastic process has the **Markov property** if the conditional probability distribution of future states of the process (conditional on both past and present states) depends only upon the present state, not on the sequence of events that preceded it. Often it is possible to model many different phenomena as a Markov process by being flexible with our definition of state.\n",
        "   \n",
        "- MDPs help us deal with fully-observable and non-deterministic/stochastic environments. For dealing with partially-observable and stochastic cases we make use of generalization of MDPs named POMDPs (partially observable Markov decision process).\n",
        "\n",
        "- Our overall goal to solve a MDP is to come up with a policy which guides us to select the best action in each state so as to maximize the expected sum of future rewards."
      ],
      "metadata": {
        "id": "46_BMqOXPJeK"
      }
    },
    {
      "cell_type": "code",
      "execution_count": 30,
      "metadata": {
        "id": "LNmg5SbbMOal"
      },
      "outputs": [],
      "source": [
        "import random\n",
        "from collections import defaultdict\n",
        "\n",
        "import numpy as np"
      ]
    },
    {
      "cell_type": "code",
      "source": [
        "# several utility code\n",
        "import operator\n",
        "\n",
        "def vector_add(a, b):\n",
        "    \"\"\"Component-wise addition of two vectors.\"\"\"\n",
        "    return tuple(map(operator.add, a, b))\n",
        "\n",
        "orientations = EAST, NORTH, WEST, SOUTH = [(1, 0), (0, 1), (-1, 0), (0, -1)]\n",
        "turns = LEFT, RIGHT = (+1, -1)\n",
        "\n",
        "def turn_heading(heading, inc, headings=orientations):\n",
        "    return headings[(headings.index(heading) + inc) % len(headings)]\n",
        "\n",
        "def turn_right(heading):\n",
        "    return turn_heading(heading, RIGHT)\n",
        "\n",
        "def turn_left(heading):\n",
        "    return turn_heading(heading, LEFT)\n",
        "\n",
        "def isnumber(x):\n",
        "    \"\"\"Is x a number?\"\"\"\n",
        "    return hasattr(x, '__int__')"
      ],
      "metadata": {
        "id": "6YHaz_7vVwOe"
      },
      "execution_count": 31,
      "outputs": []
    },
    {
      "cell_type": "code",
      "source": [
        "# utility class matrix\n",
        "class Matrix:\n",
        "    \"\"\"Matrix operations class\"\"\"\n",
        "\n",
        "    @staticmethod\n",
        "    def add(A, B):\n",
        "        \"\"\"Add two matrices A and B\"\"\"\n",
        "\n",
        "        res = []\n",
        "        for i in range(len(A)):\n",
        "            row = []\n",
        "            for j in range(len(A[0])):\n",
        "                row.append(A[i][j] + B[i][j])\n",
        "            res.append(row)\n",
        "        return res\n",
        "\n",
        "    @staticmethod\n",
        "    def scalar_multiply(a, B):\n",
        "        \"\"\"Multiply scalar a to matrix B\"\"\"\n",
        "\n",
        "        for i in range(len(B)):\n",
        "            for j in range(len(B[0])):\n",
        "                B[i][j] = a * B[i][j]\n",
        "        return B\n",
        "\n",
        "    @staticmethod\n",
        "    def multiply(A, B):\n",
        "        \"\"\"Multiply two matrices A and B element-wise\"\"\"\n",
        "\n",
        "        matrix = []\n",
        "        for i in range(len(B)):\n",
        "            row = []\n",
        "            for j in range(len(B[0])):\n",
        "                row.append(B[i][j] * A[j][i])\n",
        "            matrix.append(row)\n",
        "\n",
        "        return matrix\n",
        "\n",
        "    @staticmethod\n",
        "    def matmul(A, B):\n",
        "        \"\"\"Inner-product of two matrices\"\"\"\n",
        "\n",
        "        return [[sum(ele_a * ele_b for ele_a, ele_b in zip(row_a, col_b)) for col_b in list(zip(*B))] for row_a in A]\n",
        "\n",
        "    @staticmethod\n",
        "    def transpose(A):\n",
        "        \"\"\"Transpose a matrix\"\"\"\n",
        "\n",
        "        return [list(i) for i in zip(*A)]"
      ],
      "metadata": {
        "id": "ac3AZQHFFEie"
      },
      "execution_count": 69,
      "outputs": []
    },
    {
      "cell_type": "markdown",
      "source": [
        "## Markov Decision Processes (MDP)"
      ],
      "metadata": {
        "id": "O5MCJADFPfgq"
      }
    },
    {
      "cell_type": "markdown",
      "source": [
        "A Markov Decision Process, defined by an initial state, transition model, and reward function. We also keep track of a γ value, for use by algorithms. The transition model is represented somewhat differently from the text. Instead of $P(s' | s, a)$ being a probability number for each state/state/action triplet, we instead have $T(s, a)$ return a list of $(p, s')$ pairs. We also keep track of the possible states, terminal states, and actions for each state."
      ],
      "metadata": {
        "id": "bLvcP37uQOgg"
      }
    },
    {
      "cell_type": "code",
      "source": [
        "class MDP:\n",
        "    def __init__(self, init, actlist, terminals, transitions=None, reward=None, states=None, gamma=0.9):\n",
        "        if not (0 < gamma <= 1):\n",
        "            raise ValueError(\"An MDP must have 0 < gamma <= 1\")\n",
        "\n",
        "        # collect states from transitions table if not passed.\n",
        "        self.states = states or self.get_states_from_transitions(transitions)\n",
        "\n",
        "        self.init = init\n",
        "\n",
        "        if isinstance(actlist, list):\n",
        "            # if actlist is a list, all states have the same actions\n",
        "            self.actlist = actlist\n",
        "\n",
        "        elif isinstance(actlist, dict):\n",
        "            # if actlist is a dict, different actions for each state\n",
        "            self.actlist = actlist\n",
        "\n",
        "        self.terminals = terminals\n",
        "        self.transitions = transitions or {}\n",
        "        if not self.transitions:\n",
        "            print(\"Warning: Transition table is empty.\")\n",
        "\n",
        "        self.gamma = gamma\n",
        "\n",
        "        self.reward = reward or {s: 0 for s in self.states}\n",
        "\n",
        "    def R(self, state):\n",
        "        \"\"\"Return a numeric reward for this state.\"\"\"\n",
        "        \n",
        "        return self.reward[state]\n",
        "\n",
        "    def T(self, state, action):\n",
        "        \"\"\"Transition model. From a state and an action, return a list\n",
        "        of (probability, result-state) pairs.\"\"\"\n",
        "\n",
        "        if not self.transitions:\n",
        "            raise ValueError(\"Transition model is missing\")\n",
        "        else:\n",
        "            return self.transitions[state][action]\n",
        "\n",
        "    def actions(self, state):\n",
        "        \"\"\"Return a list of actions that can be performed in this state. By default, a\n",
        "        fixed list of actions, except for terminal states. Override this\n",
        "        method if you need to specialize by state.\"\"\"\n",
        "\n",
        "        if state in self.terminals:\n",
        "            return [None]\n",
        "        else:\n",
        "            return self.actlist\n",
        "\n",
        "    def get_states_from_transitions(self, transitions):\n",
        "        if isinstance(transitions, dict):\n",
        "            s1 = set(transitions.keys())\n",
        "            s2 = set(tr[1] for actions in transitions.values()\n",
        "                     for effects in actions.values()\n",
        "                     for tr in effects)\n",
        "            return s1.union(s2)\n",
        "        else:\n",
        "            print('Could not retrieve states from transitions')\n",
        "            return None\n",
        "\n",
        "    def check_consistency(self):\n",
        "\n",
        "        # check that all states in transitions are valid\n",
        "        assert set(self.states) == self.get_states_from_transitions(self.transitions)\n",
        "\n",
        "        # check that init is a valid state\n",
        "        assert self.init in self.states\n",
        "\n",
        "        # check reward for each state\n",
        "        assert set(self.reward.keys()) == set(self.states)\n",
        "\n",
        "        # check that all terminals are valid states\n",
        "        assert all(t in self.states for t in self.terminals)\n",
        "\n",
        "        # check that probability distributions for all actions sum to 1\n",
        "        for s1, actions in self.transitions.items():\n",
        "            for a in actions.keys():\n",
        "                s = 0\n",
        "                for o in actions[a]:\n",
        "                    s += o[0]\n",
        "                assert abs(s - 1) < 0.001"
      ],
      "metadata": {
        "id": "nNwdGnuNVdbF"
      },
      "execution_count": 32,
      "outputs": []
    },
    {
      "cell_type": "markdown",
      "source": [
        "The `__init__` method takes in the following parameters:\n",
        "- `init`: the initial state.\n",
        "- `actlist`: List of actions possible in each state.\n",
        "- `terminals`: List of terminal states where only possible action is exit\n",
        "- `gamma`: Discounting factor, γ. This makes sure that delayed rewards have less value compared to immediate ones.\n",
        "\n",
        "`R` method returns the reward for each state by using the self.reward dict.\n",
        "\n",
        "`T` method is not implemented and is somewhat different from the text. Here we return (probability, $s'$) pairs where s' belongs to list of possible state by taking action a in state $s$.\n",
        "\n",
        "`actions` method returns list of actions possible in each state. By default it returns all actions for states other than terminal states.\n"
      ],
      "metadata": {
        "id": "4m-TM31xWHEl"
      }
    },
    {
      "cell_type": "markdown",
      "source": [
        "Now let us implement the simple MDP in the image below. States $A$, $B$ have actions $X$, $Y$, respectively available in them. Their probabilities are shown just above the arrows. We start with using MDP as base class for our `CustomMDP`. Obviously we need to make a few changes to suit our case. We make use of a transition matrix as our transitions are not very simple."
      ],
      "metadata": {
        "id": "Esae1AKSXo2K"
      }
    },
    {
      "cell_type": "markdown",
      "source": [
        "![An Example of MDP Model](https://drive.google.com/uc?export=view&id=11tvMPYonvMV21wG_wbqi_IQtxbBNxGeJ)"
      ],
      "metadata": {
        "id": "MmCnbdMXXXy4"
      }
    },
    {
      "cell_type": "code",
      "source": [
        "# Transition Matrix as nested dict. State -> Actions in state -> List of (Probability, State) tuples\n",
        "t = {\n",
        "    \"A\": {\n",
        "            \"X\": [(0.3, \"A\"), (0.7, \"B\")],\n",
        "            \"Y\": [(1.0, \"A\")]\n",
        "         },\n",
        "    \"B\": {\n",
        "            \"X\": {(0.8, \"End\"), (0.2, \"B\")},\n",
        "            \"Y\": {(1.0, \"A\")}\n",
        "         },\n",
        "    \"End\": {}\n",
        "}\n",
        "\n",
        "init = \"A\"\n",
        "\n",
        "terminals = [\"End\"]\n",
        "\n",
        "rewards = {\n",
        "    \"A\": 5,\n",
        "    \"B\": -10,\n",
        "    \"End\": 100\n",
        "}"
      ],
      "metadata": {
        "id": "cxbb5Jz-Xz93"
      },
      "execution_count": 33,
      "outputs": []
    },
    {
      "cell_type": "code",
      "source": [
        "class CustomMDP(MDP):\n",
        "    def __init__(self, init, terminals, transition_matrix, reward = None, gamma=.9):\n",
        "        # All possible actions.\n",
        "        actlist = []\n",
        "        for state in transition_matrix.keys():\n",
        "            actlist.extend(transition_matrix[state])\n",
        "        actlist = list(set(actlist))\n",
        "        MDP.__init__(self, init, actlist, terminals, transition_matrix, reward, gamma=gamma)\n",
        "\n",
        "    def T(self, state, action):\n",
        "        if action is None:\n",
        "            return [(0.0, state)]\n",
        "        else: \n",
        "            return self.t[state][action]"
      ],
      "metadata": {
        "id": "5RdTem_OX3Jo"
      },
      "execution_count": 34,
      "outputs": []
    },
    {
      "cell_type": "markdown",
      "source": [
        "Finally we instantize the class with the parameters for our MDP in the picture."
      ],
      "metadata": {
        "id": "gnELldvlktj1"
      }
    },
    {
      "cell_type": "code",
      "source": [
        "our_mdp = CustomMDP(init, terminals, t, rewards, gamma=.9)"
      ],
      "metadata": {
        "id": "DB2kUJjhX6NQ"
      },
      "execution_count": 35,
      "outputs": []
    },
    {
      "cell_type": "markdown",
      "source": [
        "## Grid MDP"
      ],
      "metadata": {
        "id": "hRr6-GdBk9tE"
      }
    },
    {
      "cell_type": "markdown",
      "source": [
        "Now we look at a concrete implementation that makes use of the MDP as base class. The `GridMDP` class in the mdp module is used to represent a grid world MDP like the $4 x 3$ environment of the Book. We assume for now that the environment is _fully observable_, so that the agent always knows where it is. The code should be easy to understand if you have gone through the `CustomMDP` example."
      ],
      "metadata": {
        "id": "zzHZBO9HlH0y"
      }
    },
    {
      "cell_type": "code",
      "source": [
        "class GridMDP(MDP):\n",
        "    \"\"\"A two-dimensional grid MDP. All you have to do is specify the grid \n",
        "    as a list of lists of rewards; use None for an obstacle (unreachable state). \n",
        "    Also, you should specify the terminal states. \n",
        "    An action is an (x, y) unit vector; e.g. (1, 0) means move east.\"\"\"\n",
        "\n",
        "    def __init__(self, grid, terminals, init=(0, 0), gamma=.9):\n",
        "        grid.reverse()  # because we want row 0 on bottom, not on top\n",
        "        reward = {}\n",
        "        states = set()\n",
        "        self.rows = len(grid)\n",
        "        self.cols = len(grid[0])\n",
        "        self.grid = grid\n",
        "        for x in range(self.cols):\n",
        "            for y in range(self.rows):\n",
        "                if grid[y][x]:\n",
        "                    states.add((x, y))\n",
        "                    reward[(x, y)] = grid[y][x]\n",
        "        self.states = states\n",
        "        actlist = orientations\n",
        "        transitions = {}\n",
        "        for s in states:\n",
        "            transitions[s] = {}\n",
        "            for a in actlist:\n",
        "                transitions[s][a] = self.calculate_T(s, a)\n",
        "        MDP.__init__(self, init, actlist=actlist,\n",
        "                     terminals=terminals, transitions=transitions,\n",
        "                     reward=reward, states=states, gamma=gamma)\n",
        "\n",
        "    def calculate_T(self, state, action):\n",
        "        if action:\n",
        "            return [(0.8, self.go(state, action)),\n",
        "                    (0.1, self.go(state, turn_right(action))),\n",
        "                    (0.1, self.go(state, turn_left(action)))]\n",
        "        else:\n",
        "            return [(0.0, state)]\n",
        "\n",
        "    def T(self, state, action):\n",
        "        return self.transitions[state][action] if action else [(0.0, state)]\n",
        "\n",
        "    def go(self, state, direction):\n",
        "        \"\"\"Return the state that results from going in this direction.\"\"\"\n",
        "\n",
        "        state1 = vector_add(state, direction)\n",
        "        return state1 if state1 in self.states else state\n",
        "\n",
        "    def to_grid(self, mapping):\n",
        "        \"\"\"Convert a mapping from (x, y) to v into a [[..., v, ...]] grid.\"\"\"\n",
        "\n",
        "        return list(reversed([[mapping.get((x, y), None)\n",
        "                               for x in range(self.cols)]\n",
        "                              for y in range(self.rows)]))\n",
        "\n",
        "    def to_arrows(self, policy):\n",
        "        chars = {(1, 0): '>', (0, 1): '^', (-1, 0): '<', (0, -1): 'v', None: '.'}\n",
        "        return self.to_grid({s: chars[a] for (s, a) in policy.items()})\n"
      ],
      "metadata": {
        "id": "yxQ7wLO-ku6c"
      },
      "execution_count": 36,
      "outputs": []
    },
    {
      "cell_type": "markdown",
      "source": [
        "The `__init__` method takes `grid` as an extra parameter compared to the MDP class. The grid is a nested list of rewards in states.\n",
        "\n",
        "`go` method returns the state by going in particular direction by using vector_add.\n",
        "\n",
        "`T` method is not implemented and is somewhat different from the text. Here we return (probability, $s'$) pairs where $s'$ belongs to list of possible state by taking action a in state $s$.\n",
        "\n",
        "`actions` method returns list of actions possible in each state. By default it returns all actions for states other than terminal states.\n",
        "\n",
        "`to_arrows` are used for representing the policy in a grid like format."
      ],
      "metadata": {
        "id": "0zkwuzHhl2T9"
      }
    },
    {
      "cell_type": "code",
      "source": [
        "# A 4x3 grid environment that presents the agent with a sequential decision problem (as the book)\n",
        "\n",
        "sequential_decision_environment = GridMDP([[-0.04, -0.04, -0.04, +1],\n",
        "                                           [-0.04, None, -0.04, -1],\n",
        "                                           [-0.04, -0.04, -0.04, -0.04]],\n",
        "                                          terminals=[(3, 2), (3, 1)])"
      ],
      "metadata": {
        "id": "YdpnjPJPkcoA"
      },
      "execution_count": 37,
      "outputs": []
    },
    {
      "cell_type": "markdown",
      "source": [
        "## Value Iteration"
      ],
      "metadata": {
        "id": "8e1DZ0RxmfqA"
      }
    },
    {
      "cell_type": "markdown",
      "source": [
        "Now that we have looked how to represent MDPs. Let's aim at solving them. Our ultimate goal is to obtain an optimal policy. We start with looking at *Value Iteration* and a visualisation that should help us understanding it better.\n",
        "\n",
        "We start by calculating Value/Utility for each of the states. The Value of each state is the expected sum of discounted future rewards given we start in that state and follow a particular policy $\\pi$. The value or the utility of a state is given by"
      ],
      "metadata": {
        "id": "UzSJjWF_moOK"
      }
    },
    {
      "cell_type": "markdown",
      "source": [
        "$$U(s)=R(s)+\\gamma\\max_{a\\epsilon A(s)}\\sum_{s'} P(s'\\ |\\ s,a)U(s')$$"
      ],
      "metadata": {
        "id": "ZEo72Z3_mrtL"
      }
    },
    {
      "cell_type": "markdown",
      "source": [
        "This is called **the Bellman equation**. The algorithm Value Iteration relies on finding solutions of this Equation. The intuition Value Iteration works is because values propagate through the state space by means of local updates. This point will we more clear after we encounter the visualisation."
      ],
      "metadata": {
        "id": "v-UEVj8kmtl3"
      }
    },
    {
      "cell_type": "code",
      "source": [
        "def value_iteration(mdp, epsilon=0.001):\n",
        "    \"\"\"Solving an MDP by value iteration.\"\"\"\n",
        "\n",
        "    U1 = {s: 0 for s in mdp.states}\n",
        "    R, T, gamma = mdp.R, mdp.T, mdp.gamma\n",
        "    while True:\n",
        "        U = U1.copy()\n",
        "        delta = 0\n",
        "        for s in mdp.states:\n",
        "            U1[s] = R(s) + gamma * max(sum(p * U[s1] for (p, s1) in T(s, a))\n",
        "                                       for a in mdp.actions(s))\n",
        "            delta = max(delta, abs(U1[s] - U[s]))\n",
        "        if delta <= epsilon * (1 - gamma) / gamma:\n",
        "            return U"
      ],
      "metadata": {
        "id": "S6hgg-hamnq5"
      },
      "execution_count": 38,
      "outputs": []
    },
    {
      "cell_type": "code",
      "source": [
        "def best_policy(mdp, U):\n",
        "    \"\"\"Given an MDP and a utility function U, determine the best policy,\n",
        "    as a mapping from state to action.\"\"\"\n",
        "\n",
        "    pi = {}\n",
        "    for s in mdp.states:\n",
        "        pi[s] = max(mdp.actions(s), key=lambda a: expected_utility(a, s, U, mdp))\n",
        "    return pi"
      ],
      "metadata": {
        "id": "XsoMAc0irMSo"
      },
      "execution_count": 39,
      "outputs": []
    },
    {
      "cell_type": "markdown",
      "source": [
        "It takes as inputs two parameters, an MDP to solve and epsilon, the maximum error allowed in the utility of any state. It returns a dictionary containing utilities where the keys are the states and values represent utilities. <br> Value Iteration starts with arbitrary initial values for the utilities, calculates the right side of the Bellman equation and plugs it into the left hand side, thereby updating the utility of each state from the utilities of its neighbors. \n",
        "This is repeated until equilibrium is reached. \n",
        "It works on the principle of _Dynamic Programming_ - using precomputed information to simplify the subsequent computation. \n",
        "If $U_i(s)$ is the utility value for state $s$ at the $i$ th iteration, the iteration step, called Bellman update, looks like this:"
      ],
      "metadata": {
        "id": "8jrjDpRlnbtt"
      }
    },
    {
      "cell_type": "markdown",
      "source": [
        "$$ U_{i+1}(s) \\leftarrow R(s) + \\gamma \\max_{a \\epsilon A(s)} \\sum_{s'} P(s'\\ |\\ s,a)U_{i}(s') $$"
      ],
      "metadata": {
        "id": "XJQBj9TTngMf"
      }
    },
    {
      "cell_type": "markdown",
      "source": [
        "As you might have noticed, `value_iteration` has an infinite loop. How do we decide when to stop iterating? \n",
        "The concept of _contraction_ successfully explains the convergence of value iteration.\n",
        "In the algorithm, we calculate a value $delta$ that measures the difference in the utilities of the current time step and the previous time step."
      ],
      "metadata": {
        "id": "CILz2faWnjmj"
      }
    },
    {
      "cell_type": "markdown",
      "source": [
        "$$\\delta = \\max{(\\delta, \\begin{vmatrix}U_{i + 1}(s) - U_i(s)\\end{vmatrix})}$$"
      ],
      "metadata": {
        "id": "FbB5hkEynspy"
      }
    },
    {
      "cell_type": "markdown",
      "source": [
        "This value of delta decreases as the values of $U_i$ converge.\n",
        "We terminate the algorithm if the $\\delta$ value is less than a threshold value determined by the hyperparameter _epsilon_."
      ],
      "metadata": {
        "id": "QyQa3Agdnvr9"
      }
    },
    {
      "cell_type": "markdown",
      "source": [
        "$$\\delta \\lt \\epsilon \\frac{(1 - \\gamma)}{\\gamma}$$"
      ],
      "metadata": {
        "id": "oBaYY-mynzMs"
      }
    },
    {
      "cell_type": "markdown",
      "source": [
        "To summarize, the Bellman update is a _contraction_ by a factor of $gamma$ on the space of utility vectors. \n",
        "Hence, from the properties of contractions in general, it follows that `value_iteration` always converges to a unique solution of the Bellman equations whenever $gamma$ is less than $1$.\n",
        "We then terminate the algorithm when a reasonable approximation is achieved.\n",
        "In practice, it often occurs that the policy $pi$ becomes optimal long before the utility function converges. For the given $4x3$ environment with $gamma = 0.9$, the policy $pi$ is optimal when $i = 4$ (at the 4th iteration), even though the maximum error in the utility function is stil $0.46$. Hence, to increase computational efficiency, we often use another method to solve MDPs called Policy Iteration which we will see in the later part of this notebook. \n",
        "<br>For now, let us solve the `sequential_decision_environment` GridMDP using `value_iteration`."
      ],
      "metadata": {
        "id": "6maXVTrmn18A"
      }
    },
    {
      "cell_type": "code",
      "source": [
        "value_iteration(sequential_decision_environment)"
      ],
      "metadata": {
        "colab": {
          "base_uri": "https://localhost:8080/"
        },
        "id": "8JOcurelmYgi",
        "outputId": "9f058640-d511-484c-8909-230cd356ff1b"
      },
      "execution_count": 40,
      "outputs": [
        {
          "output_type": "execute_result",
          "data": {
            "text/plain": [
              "{(0, 0): 0.2962883154554812,\n",
              " (0, 1): 0.3984432178350045,\n",
              " (0, 2): 0.5093943765842497,\n",
              " (1, 0): 0.25386699846479516,\n",
              " (1, 2): 0.649585681261095,\n",
              " (2, 0): 0.3447542300124158,\n",
              " (2, 1): 0.48644001739269643,\n",
              " (2, 2): 0.7953620878466678,\n",
              " (3, 0): 0.12987274656746342,\n",
              " (3, 1): -1.0,\n",
              " (3, 2): 1.0}"
            ]
          },
          "metadata": {},
          "execution_count": 40
        }
      ]
    },
    {
      "cell_type": "markdown",
      "source": [
        "### Value Iteration: Visualization"
      ],
      "metadata": {
        "id": "ybfqbkQ0oYu4"
      }
    },
    {
      "cell_type": "code",
      "source": [
        "def value_iteration_instru(mdp, iterations=20):\n",
        "    U_over_time = []\n",
        "    U1 = {s: 0 for s in mdp.states}\n",
        "    R, T, gamma = mdp.R, mdp.T, mdp.gamma\n",
        "    for _ in range(iterations):\n",
        "        U = U1.copy()\n",
        "        for s in mdp.states:\n",
        "            U1[s] = R(s) + gamma * max([sum([p * U[s1] for (p, s1) in T(s, a)])\n",
        "                                        for a in mdp.actions(s)])\n",
        "        U_over_time.append(U)\n",
        "    return U_over_time"
      ],
      "metadata": {
        "id": "bgdS-3jRoQKY"
      },
      "execution_count": 41,
      "outputs": []
    },
    {
      "cell_type": "code",
      "source": [
        "columns = 4\n",
        "rows = 3\n",
        "U_over_time = value_iteration_instru(sequential_decision_environment)"
      ],
      "metadata": {
        "id": "Z2s6-JZTonrz"
      },
      "execution_count": 42,
      "outputs": []
    },
    {
      "cell_type": "code",
      "source": [
        "%matplotlib inline\n",
        "import matplotlib.pyplot as plt\n",
        "\n",
        "def make_plot_grid_step_function(columns, rows, U_over_time):\n",
        "    \"\"\"ipywidgets interactive function supports single parameter as input.\n",
        "    This function creates and return such a function by taking as input\n",
        "    other parameters.\"\"\"\n",
        "\n",
        "    def plot_grid_step(iteration):\n",
        "        data = U_over_time[iteration]\n",
        "        data = defaultdict(lambda: 0, data)\n",
        "        grid = []\n",
        "        for row in range(rows):\n",
        "            current_row = []\n",
        "            for column in range(columns):\n",
        "                current_row.append(data[(column, row)])\n",
        "            grid.append(current_row)\n",
        "        grid.reverse()  # output like book\n",
        "        fig = plt.imshow(grid, cmap=plt.cm.bwr, interpolation='nearest')\n",
        "\n",
        "        plt.axis('off')\n",
        "        fig.axes.get_xaxis().set_visible(False)\n",
        "        fig.axes.get_yaxis().set_visible(False)\n",
        "\n",
        "        for col in range(len(grid)):\n",
        "            for row in range(len(grid[0])):\n",
        "                magic = grid[col][row]\n",
        "                fig.axes.text(row, col, \"{0:.2f}\".format(magic), va='center', ha='center')\n",
        "\n",
        "        plt.show()\n",
        "\n",
        "    return plot_grid_step"
      ],
      "metadata": {
        "id": "MhaZ8zkToqQS"
      },
      "execution_count": 43,
      "outputs": []
    },
    {
      "cell_type": "code",
      "source": [
        "plot_grid_step = make_plot_grid_step_function(columns, rows, U_over_time)"
      ],
      "metadata": {
        "id": "zqYaCqkfosCK"
      },
      "execution_count": 44,
      "outputs": []
    },
    {
      "cell_type": "code",
      "source": [
        "import time\n",
        "\n",
        "def make_visualize(slider):\n",
        "    \"\"\"Takes an input a sliderand returns callback function\n",
        "    for timer and animation.\"\"\"\n",
        "\n",
        "    def visualize_callback(visualize, time_step):\n",
        "        if visualize is True:\n",
        "            for i in range(slider.min, slider.max + 1):\n",
        "                slider.value = i\n",
        "                time.sleep(float(time_step))\n",
        "\n",
        "    return visualize_callback"
      ],
      "metadata": {
        "id": "dNoU0yKcpVRX"
      },
      "execution_count": 45,
      "outputs": []
    },
    {
      "cell_type": "code",
      "source": [
        "import ipywidgets as widgets\n",
        "from IPython.display import display\n",
        "\n",
        "iteration_slider = widgets.IntSlider(min=1, max=15, step=1, value=0)\n",
        "w=widgets.interactive(plot_grid_step,iteration=iteration_slider)\n",
        "display(w)\n",
        "\n",
        "# move the slider above to observe how the utility changes across iterations\n",
        "visualize_callback = make_visualize(iteration_slider)"
      ],
      "metadata": {
        "colab": {
          "base_uri": "https://localhost:8080/",
          "height": 280,
          "referenced_widgets": [
            "e0e0fc98c3ee420787ac53a4700331b6",
            "804ef5471fb84ea7aff7b540ed456999",
            "71d7b21cc5f645b5b615861e773e1388",
            "e9cbf35e9f7144ae8911f54644271093",
            "55bdb80950d94c8da03036867c68201a",
            "e5a4828d791e4b4c8a7322ac553d0600",
            "d20bf5fb13c74c13abd1208664a08102"
          ]
        },
        "id": "2yAhvkJ6ppCM",
        "outputId": "357f2374-7687-4f44-b1d4-f9bae24543b2"
      },
      "execution_count": 46,
      "outputs": [
        {
          "output_type": "display_data",
          "data": {
            "text/plain": [
              "interactive(children=(IntSlider(value=1, description='iteration', max=15, min=1), Output()), _dom_classes=('wi…"
            ],
            "application/vnd.jupyter.widget-view+json": {
              "version_major": 2,
              "version_minor": 0,
              "model_id": "e0e0fc98c3ee420787ac53a4700331b6"
            }
          },
          "metadata": {}
        }
      ]
    },
    {
      "cell_type": "markdown",
      "source": [
        "## Policy Iteration"
      ],
      "metadata": {
        "id": "ot0xF2bWqZzU"
      }
    },
    {
      "cell_type": "markdown",
      "source": [
        "We have already seen that value iteration converges to the optimal policy long before it accurately estimates the utility function. \n",
        "If one action is clearly better than all the others, then the exact magnitude of the utilities in the states  involved need not be precise. \n",
        "The policy iteration algorithm works on this insight. \n",
        "The algorithm executes two fundamental steps:\n",
        "* **Policy evaluation**: Given a policy _&#960;&#7522;_, calculate _U&#7522; = U(&#960;&#7522;)_, the utility of each state if _&#960;&#7522;_ were to be executed.\n",
        "* **Policy improvement**: Calculate a new policy _&#960;&#7522;&#8330;&#8321;_ using one-step look-ahead based on the utility values calculated."
      ],
      "metadata": {
        "id": "JipbT-vMqiIX"
      }
    },
    {
      "cell_type": "markdown",
      "source": [
        "The algorithm terminates when the policy improvement step yields no change in the utilities.\n",
        "We now have a simplified version of the Bellman equation"
      ],
      "metadata": {
        "id": "ooPkOvnkqydf"
      }
    },
    {
      "cell_type": "markdown",
      "source": [
        "$$U_i(s) = R(s) + \\gamma \\sum_{s'}P(s'\\ |\\ s, \\pi_i(s))U_i(s')$$"
      ],
      "metadata": {
        "id": "igDbe-AHq6Lq"
      }
    },
    {
      "cell_type": "markdown",
      "source": [
        "An important observation in this equation is that this equation doesn't have the `max` operator, which makes it linear.\n",
        "For _n_ states, we have _n_ linear equations with _n_ unknowns, which can be solved exactly in time _**O(n&#179;)**_.\n",
        "Let us now look at how the expected utility is found and how `policy_iteration` is implemented."
      ],
      "metadata": {
        "id": "aqTjpmbAq-sO"
      }
    },
    {
      "cell_type": "code",
      "source": [
        "def expected_utility(a, s, U, mdp):\n",
        "    \"\"\"The expected utility of doing a in state s, according to the MDP and U.\"\"\"\n",
        "\n",
        "    return sum(p * U[s1] for (p, s1) in mdp.T(s, a))"
      ],
      "metadata": {
        "id": "dqcmqAUrpw4R"
      },
      "execution_count": 47,
      "outputs": []
    },
    {
      "cell_type": "code",
      "source": [
        "def policy_evaluation(pi, U, mdp, k=20):\n",
        "    \"\"\"Return an updated utility mapping U from each state in the MDP to its\n",
        "    utility, using an approximation (modified policy iteration).\"\"\"\n",
        "\n",
        "    R, T, gamma = mdp.R, mdp.T, mdp.gamma\n",
        "    for i in range(k):\n",
        "        for s in mdp.states:\n",
        "            U[s] = R(s) + gamma * sum(p * U[s1] for (p, s1) in T(s, pi[s]))\n",
        "    return U"
      ],
      "metadata": {
        "id": "YXHOO1NNrZ3O"
      },
      "execution_count": 48,
      "outputs": []
    },
    {
      "cell_type": "code",
      "source": [
        "def policy_iteration(mdp):\n",
        "    \"\"\"Solve an MDP by policy iteration [Figure 17.7]\"\"\"\n",
        "\n",
        "    U = {s: 0 for s in mdp.states}\n",
        "    pi = {s: random.choice(mdp.actions(s)) for s in mdp.states}\n",
        "    while True:\n",
        "        U = policy_evaluation(pi, U, mdp)\n",
        "        unchanged = True\n",
        "        for s in mdp.states:\n",
        "            a = max(mdp.actions(s), key=lambda a: expected_utility(a, s, U, mdp))\n",
        "            if a != pi[s]:\n",
        "                pi[s] = a\n",
        "                unchanged = False\n",
        "        if unchanged:\n",
        "            return pi"
      ],
      "metadata": {
        "id": "NG3ZeazTrTkY"
      },
      "execution_count": 49,
      "outputs": []
    },
    {
      "cell_type": "markdown",
      "source": [
        "Fortunately, it is not necessary to do _exact_ policy evaluation. \n",
        "The utilities can instead be reasonably approximated by performing some number of simplified value iteration steps.\n",
        "The simplified Bellman update equation for the process is"
      ],
      "metadata": {
        "id": "D8PNA_w3rkcI"
      }
    },
    {
      "cell_type": "markdown",
      "source": [
        "$$U_{i+1}(s) \\leftarrow R(s) + \\gamma\\sum_{s'}P(s'\\ |\\ s,\\pi_i(s))U_{i}(s')$$"
      ],
      "metadata": {
        "id": "BhX2GZNTrnL4"
      }
    },
    {
      "cell_type": "markdown",
      "source": [
        "and this is repeated $k$ times to produce the next utility estimate. This is called _modified policy iteration_.\n",
        "<br> Let us now solve **`sequential_decision_environment`** using `policy_iteration`."
      ],
      "metadata": {
        "id": "svt-KWb5rrf4"
      }
    },
    {
      "cell_type": "code",
      "source": [
        "policy_iteration(sequential_decision_environment)"
      ],
      "metadata": {
        "colab": {
          "base_uri": "https://localhost:8080/"
        },
        "id": "ombavnEyrdOX",
        "outputId": "50e33317-d7e1-4322-8464-2fa576eefcb6"
      },
      "execution_count": 50,
      "outputs": [
        {
          "output_type": "execute_result",
          "data": {
            "text/plain": [
              "{(0, 0): (0, 1),\n",
              " (0, 1): (0, 1),\n",
              " (0, 2): (1, 0),\n",
              " (1, 0): (1, 0),\n",
              " (1, 2): (1, 0),\n",
              " (2, 0): (0, 1),\n",
              " (2, 1): (0, 1),\n",
              " (2, 2): (1, 0),\n",
              " (3, 0): (-1, 0),\n",
              " (3, 1): None,\n",
              " (3, 2): None}"
            ]
          },
          "metadata": {},
          "execution_count": 50
        }
      ]
    },
    {
      "cell_type": "markdown",
      "source": [
        "## Sequential Decision Problem"
      ],
      "metadata": {
        "id": "BDxk0GuqsKEg"
      }
    },
    {
      "cell_type": "markdown",
      "source": [
        "Now that we have the tools required to solve MDPs, let us see how Sequential Decision Problems can be solved step by step and how a few built-in tools in the GridMDP class help us better analyse the problem at hand. "
      ],
      "metadata": {
        "id": "ujttyLzA0gUE"
      }
    },
    {
      "cell_type": "markdown",
      "source": [
        "![Grid MDP](https://drive.google.com/uc?export=view&id=1pqiJtJ3ue3U_iPt_QzCnq1_lo_wNmYD2)"
      ],
      "metadata": {
        "id": "duJXRvN51Z0o"
      }
    },
    {
      "cell_type": "markdown",
      "source": [
        "This is the environment for our agent.\n",
        "We assume for now that the environment is _fully observable_, so that the agent always knows where it is.\n",
        "We also assume that the transitions are **Markovian**, that is, the probability of reaching state $s'$ from state $s$ depends only on $s$ and not on the history of earlier states.\n",
        "Almost all stochastic decision problems can be reframed as a Markov Decision Process just by tweaking the definition of a _state_ for that particular problem.\n",
        "<br>\n",
        "However, the actions of our agent in this environment are unreliable. In other words, the motion of our agent is stochastic."
      ],
      "metadata": {
        "id": "0STkISUB1izQ"
      }
    },
    {
      "cell_type": "markdown",
      "source": [
        "More specifically, the agent may - \n",
        "* move correctly in the intended direction with a probability of $0.8$,  \n",
        "* move $90^\\circ$ to the right of the intended direction with a probability $0.1$\n",
        "* move $90^\\circ$ to the left of the intended direction with a probability $0.1$\n",
        "* The agent stays put if it bumps into a wall."
      ],
      "metadata": {
        "id": "LKevPs9T12lA"
      }
    },
    {
      "cell_type": "markdown",
      "source": [
        "![Agent of Grid MDP](https://drive.google.com/uc?export=view&id=1AMYI4GnrI95Fw73uh1jrOD6svgjE-ohc)"
      ],
      "metadata": {
        "id": "D3foYRdw1NtR"
      }
    },
    {
      "cell_type": "markdown",
      "source": [
        "To completely define our task environment, we need to specify the utility function for the agent. \n",
        "This is the function that gives the agent a rough estimate of how good being in a particular state is, or how much _reward_ an agent receives by being in that state.\n",
        "The agent then tries to maximize the reward it gets.\n",
        "As the decision problem is sequential, the utility function will depend on a sequence of states rather than on a single state.\n",
        "For now, we simply stipulate that in each state $s$, the agent receives a finite reward $R(s)$."
      ],
      "metadata": {
        "id": "geDog4yp2DZe"
      }
    },
    {
      "cell_type": "markdown",
      "source": [
        "For any given state, the actions the agent can take are encoded as given below:\n",
        "- Move Up: $(0, 1)$\n",
        "- Move Down: $(0, -1)$\n",
        "- Move Left: $(-1, 0)$\n",
        "- Move Right: $(1, 0)$\n",
        "- Do nothing: `None`"
      ],
      "metadata": {
        "id": "MN657e-E2HLO"
      }
    },
    {
      "cell_type": "markdown",
      "source": [
        "We now wonder what a valid solution to the problem might look like. \n",
        "We cannot have fixed action sequences as the environment is stochastic and we can eventually end up in an undesirable state.\n",
        "Therefore, a solution must specify what the agent shoulddo for _any_ state the agent might reach.\n",
        "<br>\n",
        "Such a solution is known as a **policy** and is usually denoted by $\\pi$.\n",
        "<br>\n",
        "The **optimal policy** is the policy that yields the highest expected utility an is usually denoted by $\\pi^*$."
      ],
      "metadata": {
        "id": "iwfaCZcp3Hcs"
      }
    },
    {
      "cell_type": "code",
      "source": [
        "# utility\n",
        "def print_table(table, header=None, sep='   ', numfmt='{}'):\n",
        "    \"\"\"Print a list of lists as a table, so that columns line up nicely.\n",
        "    header, if specified, will be printed as the first row.\n",
        "    numfmt is the format for all numbers; you might want e.g. '{:.2f}'.\n",
        "    (If you want different formats in different columns,\n",
        "    don't use print_table.) sep is the separator between columns.\"\"\"\n",
        "    justs = ['rjust' if isnumber(x) else 'ljust' for x in table[0]]\n",
        "\n",
        "    if header:\n",
        "        table.insert(0, header)\n",
        "\n",
        "    table = [[numfmt.format(x) if isnumber(x) else x for x in row]\n",
        "             for row in table]\n",
        "\n",
        "    sizes = list(map(lambda seq: max(map(len, seq)), list(zip(*[map(str, row) for row in table]))))\n",
        "\n",
        "    for row in table:\n",
        "        print(sep.join(getattr(str(x), j)(size) for (j, size, x) in zip(justs, sizes, row)))"
      ],
      "metadata": {
        "id": "rsdBsmbpV7EW"
      },
      "execution_count": 51,
      "outputs": []
    },
    {
      "cell_type": "markdown",
      "source": [
        "### Case no. 1"
      ],
      "metadata": {
        "id": "eCDIz8B_3MHw"
      }
    },
    {
      "cell_type": "markdown",
      "source": [
        "$R(s) = -0.04$ in all states except terminal states"
      ],
      "metadata": {
        "id": "tq3ipw7f3bnw"
      }
    },
    {
      "cell_type": "code",
      "source": [
        "# Note that this environment is also initialized in mdp.py by default\n",
        "sequential_decision_environment = GridMDP([[-0.04, -0.04, -0.04, +1],\n",
        "                                           [-0.04, None, -0.04, -1],\n",
        "                                           [-0.04, -0.04, -0.04, -0.04]],\n",
        "                                          terminals=[(3, 2), (3, 1)])"
      ],
      "metadata": {
        "id": "awhZJY9u3fDw"
      },
      "execution_count": 52,
      "outputs": []
    },
    {
      "cell_type": "markdown",
      "source": [
        "We will use the `best_policy` function to find the best policy for this environment.\n",
        "But, as you can see, `best_policy` requires a utility function as well.\n",
        "We already know that the utility function can be found by `value_iteration`.\n",
        "Hence, our best policy is:"
      ],
      "metadata": {
        "id": "6TZZYr6W3lsG"
      }
    },
    {
      "cell_type": "code",
      "source": [
        "pi = best_policy(sequential_decision_environment, value_iteration(sequential_decision_environment, .01))"
      ],
      "metadata": {
        "id": "MO9r43xlslIE"
      },
      "execution_count": 53,
      "outputs": []
    },
    {
      "cell_type": "markdown",
      "source": [
        "We can now use the `to_arrows` method to see how our agent should pick its actions in the environment."
      ],
      "metadata": {
        "id": "bwI1i53u3pM8"
      }
    },
    {
      "cell_type": "code",
      "source": [
        "sequential_decision_environment.to_arrows(pi)"
      ],
      "metadata": {
        "colab": {
          "base_uri": "https://localhost:8080/"
        },
        "id": "JopHOSFpsmok",
        "outputId": "5bc4f971-1efa-4928-fd52-c367e705f0e3"
      },
      "execution_count": 54,
      "outputs": [
        {
          "output_type": "execute_result",
          "data": {
            "text/plain": [
              "[['>', '>', '>', '.'], ['^', None, '^', '.'], ['^', '>', '^', '<']]"
            ]
          },
          "metadata": {},
          "execution_count": 54
        }
      ]
    },
    {
      "cell_type": "code",
      "source": [
        "# vizualize as a table\n",
        "print_table(sequential_decision_environment.to_arrows(pi))"
      ],
      "metadata": {
        "colab": {
          "base_uri": "https://localhost:8080/"
        },
        "id": "nIajKZT8r2ro",
        "outputId": "28855806-b6d8-4b4c-d0d8-be2cddcadaa2"
      },
      "execution_count": 55,
      "outputs": [
        {
          "output_type": "stream",
          "name": "stdout",
          "text": [
            ">   >      >   .\n",
            "^   None   ^   .\n",
            "^   >      ^   <\n"
          ]
        }
      ]
    },
    {
      "cell_type": "markdown",
      "source": [
        "This is exactly the output we expected"
      ],
      "metadata": {
        "id": "vZodtOPH31cM"
      }
    },
    {
      "cell_type": "markdown",
      "source": [
        "![Case 1](https://drive.google.com/uc?export=view&id=1_2iLyj0jt_riGamAAUdcsnYaTmnQFwRW)"
      ],
      "metadata": {
        "id": "2M0EVeq04M6M"
      }
    },
    {
      "cell_type": "markdown",
      "source": [
        "Notice that, because the cost of taking a step is fairly small compared with the penalty for ending up in `(4, 2)` by accident, the optimal policy is conservative. \n",
        "In state `(3, 1)` it recommends taking the long way round, rather than taking the shorter way and risking getting a large negative reward of -1 in `(4, 2)`."
      ],
      "metadata": {
        "id": "f8el9r0A4Wpe"
      }
    },
    {
      "cell_type": "markdown",
      "source": [
        "### Case no. 2"
      ],
      "metadata": {
        "id": "FnMkHHQj4d8r"
      }
    },
    {
      "cell_type": "markdown",
      "source": [
        "$R(s) = -0.4$ in all states except terminal states"
      ],
      "metadata": {
        "id": "JGwN_iT263bI"
      }
    },
    {
      "cell_type": "code",
      "source": [
        "sequential_decision_environment = GridMDP([[-0.4, -0.4, -0.4, +1],\n",
        "                                           [-0.4, None, -0.4, -1],\n",
        "                                           [-0.4, -0.4, -0.4, -0.4]],\n",
        "                                          terminals=[(3, 2), (3, 1)])"
      ],
      "metadata": {
        "id": "pVwberY_3vys"
      },
      "execution_count": 56,
      "outputs": []
    },
    {
      "cell_type": "code",
      "source": [
        "pi = best_policy(sequential_decision_environment, value_iteration(sequential_decision_environment, .001))"
      ],
      "metadata": {
        "id": "V9Xqf4uJ7HNP"
      },
      "execution_count": 57,
      "outputs": []
    },
    {
      "cell_type": "code",
      "source": [
        "# vizualize as a table\n",
        "print_table(sequential_decision_environment.to_arrows(pi))"
      ],
      "metadata": {
        "colab": {
          "base_uri": "https://localhost:8080/"
        },
        "id": "bZeEMNJw7S8T",
        "outputId": "0e782122-18ae-4ccc-e592-041cef6f1145"
      },
      "execution_count": 58,
      "outputs": [
        {
          "output_type": "stream",
          "name": "stdout",
          "text": [
            ">   >      >   .\n",
            "^   None   ^   .\n",
            "^   >      ^   <\n"
          ]
        }
      ]
    },
    {
      "cell_type": "markdown",
      "source": [
        "This is exactly the output we expected"
      ],
      "metadata": {
        "id": "TTnpSApk8gdS"
      }
    },
    {
      "cell_type": "markdown",
      "source": [
        "![Case 2](https://drive.google.com/uc?export=view&id=1tphmOokrZ-tCYYGueeI_3J1l0Gm47-sR)"
      ],
      "metadata": {
        "id": "-aM-C7HA8Pmx"
      }
    },
    {
      "cell_type": "markdown",
      "source": [
        "As the reward for each state is now more negative, life is certainly more unpleasant.\n",
        "The agent takes the shortest route to the +1 state and is willing to risk falling into the -1 state by accident."
      ],
      "metadata": {
        "id": "uEy_lUcNA8l9"
      }
    },
    {
      "cell_type": "markdown",
      "source": [
        "### Case no. 3"
      ],
      "metadata": {
        "id": "1ef4fH3E4jI2"
      }
    },
    {
      "cell_type": "markdown",
      "source": [
        "$R(s) = -4$ in all states except terminal states"
      ],
      "metadata": {
        "id": "RqqE-DJ56661"
      }
    },
    {
      "cell_type": "code",
      "source": [
        "sequential_decision_environment = GridMDP([[-4, -4, -4, +1],\n",
        "                                           [-4, None, -4, -1],\n",
        "                                           [-4, -4, -4, -4]],\n",
        "                                          terminals=[(3, 2), (3, 1)])"
      ],
      "metadata": {
        "id": "5PJmKLag4knF"
      },
      "execution_count": 59,
      "outputs": []
    },
    {
      "cell_type": "code",
      "source": [
        "pi = best_policy(sequential_decision_environment, value_iteration(sequential_decision_environment, .001))"
      ],
      "metadata": {
        "id": "uz1gN2wt7T3r"
      },
      "execution_count": 60,
      "outputs": []
    },
    {
      "cell_type": "code",
      "source": [
        "# vizualize as a table\n",
        "print_table(sequential_decision_environment.to_arrows(pi))"
      ],
      "metadata": {
        "colab": {
          "base_uri": "https://localhost:8080/"
        },
        "id": "s1v08dm27Tq7",
        "outputId": "2227e655-0f10-4c15-8b1e-ce48210a125b"
      },
      "execution_count": 61,
      "outputs": [
        {
          "output_type": "stream",
          "name": "stdout",
          "text": [
            ">   >      >   .\n",
            "^   None   >   .\n",
            ">   >      >   ^\n"
          ]
        }
      ]
    },
    {
      "cell_type": "markdown",
      "source": [
        "This is exactly the output we expected"
      ],
      "metadata": {
        "id": "MQH2koGR8iGS"
      }
    },
    {
      "cell_type": "markdown",
      "source": [
        "![Case 3](https://drive.google.com/uc?export=view&id=1q8IdGFVQFPzWjlhm7FUDsqBrg1CubEdx)"
      ],
      "metadata": {
        "id": "cLog77BrAZT7"
      }
    },
    {
      "cell_type": "markdown",
      "source": [
        "The living reward for each state is now lower than the least rewarding terminal. Life is so _painful_ that the agent heads for the nearest exit as even the worst exit is less painful than any living state."
      ],
      "metadata": {
        "id": "dOk0llKxBTV8"
      }
    },
    {
      "cell_type": "markdown",
      "source": [
        "### Case no. 4"
      ],
      "metadata": {
        "id": "QXcc3-pX4oUH"
      }
    },
    {
      "cell_type": "markdown",
      "source": [
        "$R(s) = 4$ in all states except terminal states"
      ],
      "metadata": {
        "id": "hK5P-Zdv6-QZ"
      }
    },
    {
      "cell_type": "code",
      "source": [
        "sequential_decision_environment = GridMDP([[4, 4, 4, +1],\n",
        "                                           [4, None, 4, -1],\n",
        "                                           [4, 4, 4, 4]],\n",
        "                                          terminals=[(3, 2), (3, 1)])"
      ],
      "metadata": {
        "id": "uIJpvoEh4pwg"
      },
      "execution_count": 62,
      "outputs": []
    },
    {
      "cell_type": "code",
      "source": [
        "pi = best_policy(sequential_decision_environment, value_iteration(sequential_decision_environment, .001))"
      ],
      "metadata": {
        "id": "P7fE3Yo87UmR"
      },
      "execution_count": 63,
      "outputs": []
    },
    {
      "cell_type": "code",
      "source": [
        "# vizualize as a table\n",
        "print_table(sequential_decision_environment.to_arrows(pi))"
      ],
      "metadata": {
        "colab": {
          "base_uri": "https://localhost:8080/"
        },
        "id": "RFnbjYmC7UZi",
        "outputId": "2735d391-e141-4dc9-86da-063471421351"
      },
      "execution_count": 64,
      "outputs": [
        {
          "output_type": "stream",
          "name": "stdout",
          "text": [
            ">   >      <   .\n",
            ">   None   <   .\n",
            ">   >      >   v\n"
          ]
        }
      ]
    },
    {
      "cell_type": "markdown",
      "source": [
        "This is exactly the output we expected"
      ],
      "metadata": {
        "id": "Twt7h2If8j0-"
      }
    },
    {
      "cell_type": "markdown",
      "source": [
        "![Case 4](https://drive.google.com/uc?export=view&id=1dO21E64xCy3Ww1n0S0RblbYSIm9NF4Bl)"
      ],
      "metadata": {
        "id": "-3yr2oMEAqDH"
      }
    },
    {
      "cell_type": "markdown",
      "source": [
        "As life is positively enjoyable and the agent avoids _both_ exits.\n",
        "Even though the output we get is not exactly what we want, it is definitely not wrong.\n",
        "The scenario here requires the agent to anything but reach a terminal state, as this is the only way the agent can maximize its reward (total reward tends to infinity), and the program does just that.\n",
        "<br>\n",
        "Currently, the `GridMDP` class doesn't support an explicit marker for a _\"do whatever you like\"_ action or a _\"don't care\"_ condition.\n",
        "You can however, extend the class to do so."
      ],
      "metadata": {
        "id": "wB-_4IlBBZJ2"
      }
    },
    {
      "cell_type": "markdown",
      "source": [
        "## Partially Observable Markov Decision Problems (POMDP)"
      ],
      "metadata": {
        "id": "ymOiakFj4uD8"
      }
    },
    {
      "cell_type": "markdown",
      "source": [
        "In retrospect, a Markov decision process or MDP is defined as:\n",
        "- a sequential decision problem for a fully observable, stochastic environment with a Markovian transition model and additive rewards.\n",
        "\n",
        "An MDP consists of a set of states (with an initial state $s_0$); a set $A(s)$ of actions\n",
        "in each state; a transition model $P(s' | s, a)$; and a reward function $R(s)$.\n",
        "\n",
        "The MDP seeks to make sequential decisions to occupy states so as to maximise some combination of the reward function $R(s)$.\n",
        "\n",
        "The characteristic problem of the MDP is hence to identify the optimal policy function $\\pi^*(s)$ that provides the _utility-maximising_ action $a$ to be taken when the current state is $s$."
      ],
      "metadata": {
        "id": "T0bM_g5RByZ2"
      }
    },
    {
      "cell_type": "markdown",
      "source": [
        "### Belief vector"
      ],
      "metadata": {
        "id": "QHC72QNI5UKK"
      }
    },
    {
      "cell_type": "markdown",
      "source": [
        "**Note**: The book refers to the _belief vector_ as the _belief state_. We use the latter terminology here to retain our ability to refer to the belief vector as a _probability distribution over states_. One critical assumption from the book is that the agent is **fully aware of its current state at all times**.\n",
        "\n",
        "A tedious (but rewarding, as we will see) way of expressing this is in terms of the **belief vector** $b$ of the agent. The belief vector is a function mapping states to probabilities or certainties of being in those states.\n",
        "\n",
        "Consider an agent that is fully aware that it is in state $s_i$ in the statespace $(s_1, s_2, ... s_n)$ at the current time.\n",
        "\n",
        "Its belief vector is the vector $(b(s_1), b(s_2), ... b(s_n))$ given by the function $b(s)$:\n",
        "\\begin{align*}\n",
        "b(s) &= 0 \\quad \\text{if }s \\neq s_i \\\\ &= 1 \\quad \\text{if } s = s_i\n",
        "\\end{align*}\n",
        "\n",
        "Note that $b(s)$ is a probability distribution that necessarily sums to $1$ over all $s$."
      ],
      "metadata": {
        "id": "tgT3K4gMB66B"
      }
    },
    {
      "cell_type": "markdown",
      "source": [
        "### POMDPs - a conceptual outline"
      ],
      "metadata": {
        "id": "Rt9yNhTr5eXj"
      }
    },
    {
      "cell_type": "markdown",
      "source": [
        "The POMDP really has only two modifications to the **problem formulation** compared to the MDP.\n",
        "\n",
        "- **Belief state** - In the real world, the current state of an agent is often not known with complete certainty. This makes the concept of a belief vector extremely relevant. It allows the agent to represent different degrees of certainty with which it _believes_ it is in each state.\n",
        "\n",
        "- **Evidence percepts** - In the real world, agents often have certain kinds of evidence, collected from sensors. They can use the probability distribution of observed evidence, conditional on state, to consolidate their information. This is a known distribution $P(e\\ |\\ s)$ - $e$ being an evidence, and $s$ being the state it is conditional on.\n",
        "\n",
        "Consider the world we used for the MDP. "
      ],
      "metadata": {
        "id": "1889LJrnCNb9"
      }
    },
    {
      "cell_type": "markdown",
      "source": [
        "![Grid MDP](https://drive.google.com/uc?export=view&id=1pqiJtJ3ue3U_iPt_QzCnq1_lo_wNmYD2)"
      ],
      "metadata": {
        "id": "FXKac3f9CVZu"
      }
    },
    {
      "cell_type": "markdown",
      "source": [
        "#### Using the belief vector"
      ],
      "metadata": {
        "id": "z7NwIo1M5hzN"
      }
    },
    {
      "cell_type": "markdown",
      "source": [
        "An agent beginning at $(1, 1)$ may not be certain that it is indeed in $(1, 1)$. Consider a belief vector $b$ such that:\n",
        "\\begin{align*}\n",
        "    b((1,1)) &= 0.8 \\\\\n",
        "    b((2,1)) &= 0.1 \\\\\n",
        "    b((1,2)) &= 0.1 \\\\\n",
        "    b(s) &= 0 \\quad \\quad \\forall \\text{ other } s\n",
        "\\end{align*}\n",
        "\n",
        "By horizontally catenating each row, we can represent this as an 11-dimensional vector (omitting $(2, 2)$).\n",
        "\n",
        "Thus, taking $s_1 = (1, 1)$, $s_2 = (1, 2)$, ... $s_{11} = (4,3)$, we have $b$:\n",
        "\n",
        "$b = (0.8, 0.1, 0, 0, 0.1, 0, 0, 0, 0, 0, 0)$ \n",
        "\n",
        "This fully represents the certainty to which the agent is aware of its state."
      ],
      "metadata": {
        "id": "klqIbIupCnWs"
      }
    },
    {
      "cell_type": "markdown",
      "source": [
        "#### Using evidence"
      ],
      "metadata": {
        "id": "M_ZE_InH5mAl"
      }
    },
    {
      "cell_type": "markdown",
      "source": [
        "The evidence observed here could be the number of adjacent 'walls' or 'dead ends' observed by the agent. We assume that the agent cannot 'orient' the walls - only count them.\n",
        "\n",
        "In this case, $e$ can take only two values, 1 and 2. This gives $P(e\\ |\\ s)$ as:\n",
        "\\begin{align*}\n",
        "    P(e=2\\ |\\ s) &= \\frac{1}{7} \\quad \\forall \\quad s \\in \\{s_1, s_2, s_4, s_5, s_8, s_9, s_{11}\\}\\\\\n",
        "    P(e=1\\ |\\ s) &= \\frac{1}{4} \\quad \\forall \\quad s \\in \\{s_3, s_6, s_7, s_{10}\\} \\\\\n",
        "    P(e\\ |\\ s) &= 0 \\quad \\forall \\quad \\text{ other } s, e\n",
        "\\end{align*}\n",
        "\n",
        "Note that the implications of the evidence on the state must be known **a priori** to the agent. Ways of reliably learning this distribution from percepts are beyond the scope of this notebook."
      ],
      "metadata": {
        "id": "e-c9BlN_C2Q_"
      }
    },
    {
      "cell_type": "markdown",
      "source": [
        "### POMDPs - a rigorous outline"
      ],
      "metadata": {
        "id": "stEsK-w15w1l"
      }
    },
    {
      "cell_type": "markdown",
      "source": [
        "A POMDP is thus a sequential decision problem for for a *partially* observable, stochastic environment with a Markovian transition model, a known 'sensor model' for inferring state from observation, and additive rewards. \n",
        "\n",
        "Practically, a POMDP has the following, which an MDP also has:\n",
        "- a set of states, each denoted by $s$\n",
        "- a set of actions available in each state, $A(s)$\n",
        "- a reward accrued on attaining some state, $R(s)$\n",
        "- a transition probability $P(s'\\ |\\ s, a)$ of action $a$ changing the state from $s$ to $s'$\n",
        "\n",
        "And the following, which an MDP does not:\n",
        "- a sensor model $P(e\\ |\\ s)$ on evidence conditional on states\n",
        "\n",
        "Additionally, the POMDP is now uncertain of its current state hence has:\n",
        "- a belief vector $b$ representing the certainty of being in each state (as a probability distribution)"
      ],
      "metadata": {
        "id": "yDBPQxJRC8cN"
      }
    },
    {
      "cell_type": "markdown",
      "source": [
        "#### New uncertainties"
      ],
      "metadata": {
        "id": "zCBE_CjQ52j_"
      }
    },
    {
      "cell_type": "markdown",
      "source": [
        "It is useful to intuitively appreciate the new uncertainties that have arisen in the agent's awareness of its own state.\n",
        "\n",
        "- At any point, the agent has belief vector $b$, the distribution of its believed likelihood of being in each state $s$.\n",
        "- For each of these states $s$ that the agent may **actually** be in, it has some set of actions given by $A(s)$.\n",
        "- Each of these actions may transport it to some other state $s'$, assuming an initial state $s$, with probability $P(s'\\ |\\ s, a)$\n",
        "- Once the action is performed, the agent receives a percept $e$. $P(e\\ |\\ s)$ now tells it the chances of having perceived $e$ for each state $s$. The agent must use this information to update its new belief state appropriately."
      ],
      "metadata": {
        "id": "mAijl6ncDCDN"
      }
    },
    {
      "cell_type": "markdown",
      "source": [
        "#### Evolution of the belief vector - the $FORWARD$ function"
      ],
      "metadata": {
        "id": "z02NRb-p6Amh"
      }
    },
    {
      "cell_type": "markdown",
      "source": [
        "The new belief vector $b'(s')$ after an action $a$ on the belief vector $b(s)$ and the noting of evidence $e$ is:\n",
        "$$ b'(s') = \\alpha P(e\\ |\\ s') \\sum_s P(s'\\ | s, a) b(s)$$ \n",
        "\n",
        "where $\\alpha$ is a normalising constant (to retain the interpretation of $b$ as a probability distribution.\n",
        "\n",
        "This equation is just counts the sum of likelihoods of going to a state $s'$ from every possible state $s$, times the initial likelihood of being in each $s$. This is multiplied by the likelihood that the known evidence actually implies the new state $s'$. \n",
        "\n",
        "This function is represented as $b' = FORWARD(b, a, e)$"
      ],
      "metadata": {
        "id": "l3_Eu6OYDIqx"
      }
    },
    {
      "cell_type": "markdown",
      "source": [
        "#### Probability distribution of the evolving belief vector"
      ],
      "metadata": {
        "id": "3-BGlvoO6E6N"
      }
    },
    {
      "cell_type": "markdown",
      "source": [
        "The goal here is to find $P(b'\\ |\\ b, a)$ - the probability that action $a$ transforms belief vector $b$ into belief vector $b'$. The following steps illustrate this -\n",
        "\n",
        "The probability of observing evidence $e$ when action $a$ is enacted on belief vector $b$ can be distributed over each possible new state $s'$ resulting from it:\n",
        "\\begin{align*}\n",
        "    P(e\\ |\\ b, a) &= \\sum_{s'} P(e\\ |\\ b, a, s') P(s'\\ |\\ b, a) \\\\\n",
        "                  &= \\sum_{s'} P(e\\ |\\ s') P(s'\\ |\\ b, a) \\\\\n",
        "                  &= \\sum_{s'} P(e\\ |\\ s') \\sum_s P(s'\\ |\\ s, a) b(s)\n",
        "\\end{align*}\n",
        "\n",
        "The probability of getting belief vector $b'$ from $b$ by application of action $a$ can thus be summed over all possible evidences $e$:\n",
        "\\begin{align*}\n",
        "    P(b'\\ |\\ b, a) &= \\sum_{e} P(b'\\ |\\ b, a, e) P(e\\ |\\ b, a) \\\\\n",
        "                  &= \\sum_{e} P(b'\\ |\\ b, a, e) \\sum_{s'} P(e\\ |\\ s') \\sum_s P(s'\\ |\\ s, a) b(s)\n",
        "\\end{align*}\n",
        "\n",
        "where $P(b'\\ |\\ b, a, e) = 1$ if $b' = $ $FORWARD(b, a, e)$ and $= 0$ otherwise.\n",
        "\n",
        "Given initial and final belief states $b$ and $b'$, the transition probabilities still depend on the action $a$ and observed evidence $e$. Some belief states may be achievable by certain actions, but have non-zero probabilities for states prohibited by the evidence $e$. Thus, the above condition thus ensures that only valid combinations of $(b', b, a, e)$ are considered."
      ],
      "metadata": {
        "id": "vxu1vTU5Dea9"
      }
    },
    {
      "cell_type": "markdown",
      "source": [
        "#### A modified rewardspace"
      ],
      "metadata": {
        "id": "IcXOHJEO6LVA"
      }
    },
    {
      "cell_type": "markdown",
      "source": [
        "For MDPs, the reward space was simple - one reward per available state. However, for a belief vector $b(s)$, the expected reward is now:\n",
        "$$\\rho(b) = \\sum_s b(s) R(s)$$\n",
        "\n",
        "Thus, as the belief vector can take infinite values of the distribution over states, so can the reward for each belief vector vary over a hyperplane in the belief space, or space of states (planes in an $N$-dimensional space are formed by a linear combination of the axes)."
      ],
      "metadata": {
        "id": "mGvGwIJpDpSn"
      }
    },
    {
      "cell_type": "markdown",
      "source": [
        "Now that we know the basics, let's have a look at the `POMDP` class."
      ],
      "metadata": {
        "id": "kP7mNGBGEHrh"
      }
    },
    {
      "cell_type": "code",
      "source": [
        "class POMDP(MDP):\n",
        "    \"\"\"A Partially Observable Markov Decision Process, defined by\n",
        "    a transition model P(s'|s,a), actions A(s), a reward function R(s),\n",
        "    and a sensor model P(e|s). We also keep track of a gamma value,\n",
        "    for use by algorithms. The transition and the sensor models\n",
        "    are defined as matrices. We also keep track of the possible states\n",
        "    and actions for each state. [Page 659].\"\"\"\n",
        "\n",
        "    def __init__(self, actions, transitions=None, evidences=None, rewards=None, states=None, gamma=0.95):\n",
        "        \"\"\"Initialize variables of the pomdp\"\"\"\n",
        "\n",
        "        if not (0 < gamma <= 1):\n",
        "            raise ValueError('A POMDP must have 0 < gamma <= 1')\n",
        "\n",
        "        self.states = states\n",
        "        self.actions = actions\n",
        "\n",
        "        # transition model cannot be undefined\n",
        "        self.t_prob = transitions or {}\n",
        "        if not self.t_prob:\n",
        "            print('Warning: Transition model is undefined')\n",
        "\n",
        "        # sensor model cannot be undefined\n",
        "        self.e_prob = evidences or {}\n",
        "        if not self.e_prob:\n",
        "            print('Warning: Sensor model is undefined')\n",
        "\n",
        "        self.gamma = gamma\n",
        "        self.rewards = rewards\n",
        "\n",
        "    def remove_dominated_plans(self, input_values):\n",
        "        \"\"\"\n",
        "        Remove dominated plans.\n",
        "        This method finds all the lines contributing to the\n",
        "        upper surface and removes those which don't.\n",
        "        \"\"\"\n",
        "\n",
        "        values = [val for action in input_values for val in input_values[action]]\n",
        "        values.sort(key=lambda x: x[0], reverse=True)\n",
        "\n",
        "        best = [values[0]]\n",
        "        y1_max = max(val[1] for val in values)\n",
        "        tgt = values[0]\n",
        "        prev_b = 0\n",
        "        prev_ix = 0\n",
        "        while tgt[1] != y1_max:\n",
        "            min_b = 1\n",
        "            min_ix = 0\n",
        "            for i in range(prev_ix + 1, len(values)):\n",
        "                if values[i][0] - tgt[0] + tgt[1] - values[i][1] != 0:\n",
        "                    trans_b = (values[i][0] - tgt[0]) / (values[i][0] - tgt[0] + tgt[1] - values[i][1])\n",
        "                    if 0 <= trans_b <= 1 and trans_b > prev_b and trans_b < min_b:\n",
        "                        min_b = trans_b\n",
        "                        min_ix = i\n",
        "            prev_b = min_b\n",
        "            prev_ix = min_ix\n",
        "            tgt = values[min_ix]\n",
        "            best.append(tgt)\n",
        "\n",
        "        return self.generate_mapping(best, input_values)\n",
        "\n",
        "    def remove_dominated_plans_fast(self, input_values):\n",
        "        \"\"\"\n",
        "        Remove dominated plans using approximations.\n",
        "        Resamples the upper boundary at intervals of 100 and\n",
        "        finds the maximum values at these points.\n",
        "        \"\"\"\n",
        "\n",
        "        values = [val for action in input_values for val in input_values[action]]\n",
        "        values.sort(key=lambda x: x[0], reverse=True)\n",
        "\n",
        "        best = []\n",
        "        sr = 100\n",
        "        for i in range(sr + 1):\n",
        "            x = i / float(sr)\n",
        "            maximum = (values[0][1] - values[0][0]) * x + values[0][0]\n",
        "            tgt = values[0]\n",
        "            for value in values:\n",
        "                val = (value[1] - value[0]) * x + value[0]\n",
        "                if val > maximum:\n",
        "                    maximum = val\n",
        "                    tgt = value\n",
        "\n",
        "            if all(any(tgt != v) for v in best):\n",
        "                best.append(np.array(tgt))\n",
        "\n",
        "        return self.generate_mapping(best, input_values)\n",
        "\n",
        "    def generate_mapping(self, best, input_values):\n",
        "        \"\"\"Generate mappings after removing dominated plans\"\"\"\n",
        "\n",
        "        mapping = defaultdict(list)\n",
        "        for value in best:\n",
        "            for action in input_values:\n",
        "                if any(all(value == v) for v in input_values[action]):\n",
        "                    mapping[action].append(value)\n",
        "\n",
        "        return mapping\n",
        "\n",
        "    def max_difference(self, U1, U2):\n",
        "        \"\"\"Find maximum difference between two utility mappings\"\"\"\n",
        "\n",
        "        for k, v in U1.items():\n",
        "            sum1 = 0\n",
        "            for element in U1[k]:\n",
        "                sum1 += sum(element)\n",
        "            sum2 = 0\n",
        "            for element in U2[k]:\n",
        "                sum2 += sum(element)\n",
        "        return abs(sum1 - sum2)"
      ],
      "metadata": {
        "id": "dVv0dMidEDIl"
      },
      "execution_count": 65,
      "outputs": []
    },
    {
      "cell_type": "markdown",
      "source": [
        "The `POMDP` class includes all variables of the `MDP` class and additionally also stores the sensor model in `e_prob`."
      ],
      "metadata": {
        "id": "TZ_K-1T1ES6d"
      }
    },
    {
      "cell_type": "markdown",
      "source": [
        "`remove_dominated_plans`, `remove_dominated_plans_fast`, `generate_mapping` and `max_difference` are helper methods for `pomdp_value_iteration` which will be explained shortly."
      ],
      "metadata": {
        "id": "qdoJtJGfEWs-"
      }
    },
    {
      "cell_type": "markdown",
      "source": [
        "To understand how we can model a partially observable MDP, let's take a simple example.\n",
        "Let's consider a simple two state world.\n",
        "The states are labelled 0 and 1, with the reward at state 0 being 0 and at state 1 being 1.\n",
        "<br>\n",
        "There are two actions:\n",
        "<br>\n",
        "`Stay`: stays put with probability 0.9 and\n",
        "`Go`: switches to the other state with probability 0.9.\n",
        "<br>\n",
        "For now, let's assume the discount factor `gamma` to be 1.\n",
        "<br>\n",
        "The sensor reports the correct state with probability 0.6.\n",
        "<br>\n",
        "This is a simple problem with a trivial solution.\n",
        "Obviously the agent should `Stay` when it thinks it is in state 1 and `Go` when it thinks it is in state 0.\n",
        "<br>\n",
        "The belief space can be viewed as one-dimensional because the two probabilities must sum to 1."
      ],
      "metadata": {
        "id": "aCUtF1y3EcNj"
      }
    },
    {
      "cell_type": "markdown",
      "source": [
        "Let's model this POMDP using the `POMDP` class."
      ],
      "metadata": {
        "id": "Qc1vo4p1Egex"
      }
    },
    {
      "cell_type": "code",
      "source": [
        "# transition probability P(s'|s,a)\n",
        "t_prob = [[[0.9, 0.1], [0.1, 0.9]], [[0.1, 0.9], [0.9, 0.1]]]\n",
        "# evidence function P(e|s)\n",
        "e_prob = [[[0.6, 0.4], [0.4, 0.6]], [[0.6, 0.4], [0.4, 0.6]]]\n",
        "# reward function\n",
        "rewards = [[0.0, 0.0], [1.0, 1.0]]\n",
        "# discount factor\n",
        "gamma = 0.95\n",
        "# actions\n",
        "actions = ('0', '1')\n",
        "# states\n",
        "states = ('0', '1')"
      ],
      "metadata": {
        "id": "TlF6NfSVEjp6"
      },
      "execution_count": 66,
      "outputs": []
    },
    {
      "cell_type": "code",
      "source": [
        "pomdp = POMDP(actions, t_prob, e_prob, rewards, states, gamma)"
      ],
      "metadata": {
        "id": "OCvE33lQEkv7"
      },
      "execution_count": 67,
      "outputs": []
    },
    {
      "cell_type": "markdown",
      "source": [
        "### POMDP: Value Iteration"
      ],
      "metadata": {
        "id": "6w3-VtaW6WuM"
      }
    },
    {
      "cell_type": "markdown",
      "source": [
        "Defining a POMDP is useless unless we can find a way to solve it. As POMDPs can have infinitely many belief states, we cannot calculate one utility value for each state as we did in `value_iteration` for MDPs.\n",
        "<br>\n",
        "Instead of thinking about policies, we should think about conditional plans and how the expected utility of executing a fixed conditional plan varies with the initial belief state.\n",
        "<br>\n",
        "If we bound the depth of the conditional plans, then there are only finitely many such plans and the continuous space of belief states will generally be divided inte _regions_, each corresponding to a particular conditional plan that is optimal in that region. The utility function, being the maximum of a collection of hyperplanes, will be piecewise linear and convex.\n",
        "<br>\n",
        "For the one-step plans `Stay` and `Go`, the utility values are as follows"
      ],
      "metadata": {
        "id": "2HsT0HjhEscA"
      }
    },
    {
      "cell_type": "markdown",
      "source": [
        "$$\\alpha_{|Stay|}(0) = R(0) + \\gamma(0.9R(0) + 0.1R(1)) = 0.1$$\n",
        "$$\\alpha_{|Stay|}(1) = R(1) + \\gamma(0.9R(1) + 0.1R(0)) = 1.9$$\n",
        "$$\\alpha_{|Go|}(0) = R(0) + \\gamma(0.9R(1) + 0.1R(0)) = 0.9$$\n",
        "$$\\alpha_{|Go|}(1) = R(1) + \\gamma(0.9R(0) + 0.1R(1)) = 1.1$$"
      ],
      "metadata": {
        "id": "yCqlnxpuEti5"
      }
    },
    {
      "cell_type": "markdown",
      "source": [
        "The utility function can be found by `pomdp_value_iteration`.\n",
        "<br>\n",
        "To summarize, it generates a set of all plans consisting of an action and, for each possible next percept, a plan in U with computed utility vectors.\n",
        "The dominated plans are then removed from this set and the process is repeated till the maximum difference between the utility functions of two consecutive iterations reaches a value less than a threshold value."
      ],
      "metadata": {
        "id": "n1mjbKiFE1Tq"
      }
    },
    {
      "cell_type": "markdown",
      "source": [
        "Let's have a look at the `pomdp_value_iteration` function."
      ],
      "metadata": {
        "id": "Mav95cyrE46Q"
      }
    },
    {
      "cell_type": "code",
      "source": [
        "def pomdp_value_iteration(pomdp, epsilon=0.1):\n",
        "    \"\"\"Solving a POMDP by value iteration.\"\"\"\n",
        "\n",
        "    U = {'': [[0] * len(pomdp.states)]}\n",
        "    count = 0\n",
        "    while True:\n",
        "        count += 1\n",
        "        prev_U = U\n",
        "        values = [val for action in U for val in U[action]]\n",
        "        value_matxs = []\n",
        "        for i in values:\n",
        "            for j in values:\n",
        "                value_matxs.append([i, j])\n",
        "\n",
        "        U1 = defaultdict(list)\n",
        "        for action in pomdp.actions:\n",
        "            for u in value_matxs:\n",
        "                u1 = Matrix.matmul(Matrix.matmul(pomdp.t_prob[int(action)],\n",
        "                                                 Matrix.multiply(pomdp.e_prob[int(action)], Matrix.transpose(u))),\n",
        "                                   [[1], [1]])\n",
        "                u1 = Matrix.add(Matrix.scalar_multiply(pomdp.gamma, Matrix.transpose(u1)), [pomdp.rewards[int(action)]])\n",
        "                U1[action].append(u1[0])\n",
        "\n",
        "        U = pomdp.remove_dominated_plans_fast(U1)\n",
        "        # replace with U = pomdp.remove_dominated_plans(U1) for accurate calculations\n",
        "\n",
        "        if count > 10:\n",
        "            if pomdp.max_difference(U, prev_U) < epsilon * (1 - pomdp.gamma) / pomdp.gamma:\n",
        "                return U"
      ],
      "metadata": {
        "id": "65J9897O6ZBj"
      },
      "execution_count": 70,
      "outputs": []
    },
    {
      "cell_type": "markdown",
      "source": [
        "This function uses two aptly named helper methods from the `POMDP` class, `remove_dominated_plans` and `max_difference`."
      ],
      "metadata": {
        "id": "MvSXtDZRFTyB"
      }
    },
    {
      "cell_type": "markdown",
      "source": [
        "Let's try solving a simple one-dimensional POMDP using value-iteration.\n",
        "<br>\n",
        "Consider the problem of a user listening to voicemails.\n",
        "At the end of each message, they can either $\\{save\\}$ or $\\{delete\\}$ a message.\n",
        "This forms the unobservable state $S = \\{save, delete\\}$.\n",
        "It is the task of the POMDP solver to guess which goal the user has.\n",
        "<br>\n",
        "The belief space has two elements, $b(s = save)$ and $b(s = delete)$.\n",
        "For example, for the belief state $b = (1, 0)$, the left end of the line segment indicates $b(s = save) = 1$ and $b(s = delete) = 0$.\n",
        "The intermediate points represent varying degrees of certainty in the user's goal.\n",
        "<br>\n",
        "The machine has three available actions: it can $\\{ask\\}$ what the user wishes to do in order to infer his or her current goal, or it can $\\{doSave\\}$ or $\\{doDelete\\}$ and move to the next message.\n",
        "If the user says $\\{save\\}$, then an error may occur with probability $0.2$, whereas if the user says $\\{delete\\}$, an error may occur with a probability $0.3$.\n",
        "<br>\n",
        "The machine receives a large positive reward $(+5)$ for getting the user's goal correct, a very large negative reward $(-20)$ for taking the action $\\{doDelete\\}$ when the user wanted $\\{save\\}$, and a smaller but still significant negative reward $(-10)$ for taking the action $\\{doSave\\}$ when the user wanted $\\{delete\\}$. \n",
        "<br>\n",
        "There is also a small negative reward for taking the \"ask\" action $(-1)$.\n",
        "The discount factor is set to $0.95$ for this example.\n",
        "<br>\n",
        "Let's define the POMDP."
      ],
      "metadata": {
        "id": "0z-o3ZrUFZWo"
      }
    },
    {
      "cell_type": "code",
      "source": [
        "# transition function P(s'|s,a)\n",
        "t_prob = [[[0.65, 0.35], [0.65, 0.35]], [[0.65, 0.35], [0.65, 0.35]], [[1.0, 0.0], [0.0, 1.0]]]\n",
        "# evidence function P(e|s)\n",
        "e_prob = [[[0.5, 0.5], [0.5, 0.5]], [[0.5, 0.5], [0.5, 0.5]], [[0.8, 0.2], [0.3, 0.7]]]\n",
        "# reward function\n",
        "rewards = [[5, -10], [-20, 5], [-1, -1]]\n",
        "\n",
        "gamma = 0.95\n",
        "actions = ('0', '1', '2')\n",
        "states = ('0', '1')\n",
        "\n",
        "pomdp = POMDP(actions, t_prob, e_prob, rewards, states, gamma)"
      ],
      "metadata": {
        "id": "jsP1mlD4E8eq"
      },
      "execution_count": 71,
      "outputs": []
    },
    {
      "cell_type": "code",
      "source": [
        "utility = pomdp_value_iteration(pomdp, epsilon=0.1)"
      ],
      "metadata": {
        "id": "A43SzthOHtvQ"
      },
      "execution_count": 72,
      "outputs": []
    },
    {
      "cell_type": "code",
      "source": [
        "def plot_pomdp_utility(utility):\n",
        "    save = utility['0'][0]\n",
        "    delete = utility['1'][0]\n",
        "    ask_save = utility['2'][0]\n",
        "    ask_delete = utility['2'][-1]\n",
        "    left = (save[0] - ask_save[0]) / (save[0] - ask_save[0] + ask_save[1] - save[1])\n",
        "    right = (delete[0] - ask_delete[0]) / (delete[0] - ask_delete[0] + ask_delete[1] - delete[1])\n",
        "\n",
        "    colors = ['g', 'b', 'k']\n",
        "    for action in utility:\n",
        "        for value in utility[action]:\n",
        "            plt.plot(value, color=colors[int(action)])\n",
        "    plt.vlines([left, right], -20, 10, linestyles='dashed', colors='c')\n",
        "    plt.ylim(-20, 13)\n",
        "    plt.xlim(0, 1)\n",
        "    plt.text(left / 2 - 0.05, 10, 'Save')\n",
        "    plt.text((right + left) / 2 - 0.02, 10, 'Ask')\n",
        "    plt.text((right + 1) / 2 - 0.07, 10, 'Delete')\n",
        "    plt.show()"
      ],
      "metadata": {
        "id": "4wFjhXUqHwf9"
      },
      "execution_count": 74,
      "outputs": []
    },
    {
      "cell_type": "code",
      "source": [
        "plot_pomdp_utility(utility)"
      ],
      "metadata": {
        "colab": {
          "base_uri": "https://localhost:8080/",
          "height": 265
        },
        "id": "kASd59FjH_SP",
        "outputId": "7b523cfd-89d5-4d66-d608-ce4a27a37a16"
      },
      "execution_count": 75,
      "outputs": [
        {
          "output_type": "display_data",
          "data": {
            "text/plain": [
              "<Figure size 432x288 with 1 Axes>"
            ],
            "image/png": "[encoded data removed]"
          },
          "metadata": {
            "needs_background": "light"
          }
        }
      ]
    },
    {
      "cell_type": "code",
      "source": [
        ""
      ],
      "metadata": {
        "id": "czsjcF1fIuvV"
      },
      "execution_count": null,
      "outputs": []
    }
  ]
}