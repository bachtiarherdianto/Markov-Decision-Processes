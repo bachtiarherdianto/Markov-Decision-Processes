{
  "nbformat": 4,
  "nbformat_minor": 0,
  "metadata": {
    "colab": {
      "name": "main.ipynb",
      "provenance": [],
      "collapsed_sections": []
    },
    "kernelspec": {
      "name": "python3",
      "display_name": "Python 3"
    },
    "language_info": {
      "name": "python"
    }
  },
  "cells": [
    {
      "cell_type": "markdown",
      "source": [
        "Source: https://stanford-cs221.github.io/autumn2019/live/learning1/"
      ],
      "metadata": {
        "id": "hocgz5AANReC"
      }
    },
    {
      "cell_type": "markdown",
      "source": [
        "# Introduction"
      ],
      "metadata": {
        "id": "GFxT4zYAPNNs"
      }
    },
    {
      "cell_type": "code",
      "execution_count": 1,
      "metadata": {
        "id": "lmEMbsmGNJA5"
      },
      "outputs": [],
      "source": [
        "import sys\n",
        "sys.setrecursionlimit(10000)"
      ]
    },
    {
      "cell_type": "code",
      "source": [
        "class TransportationMDP(object):\n",
        "  def __init__(self,N):\n",
        "    # N is the number of blocks\n",
        "    self.N = N\n",
        "\n",
        "  def startState(self):\n",
        "    return 1\n",
        "\n",
        "  def isEnd(self, state):\n",
        "    return state == self.N\n",
        "\n",
        "  def actions(self, state):\n",
        "    # return list of valid actions that can be taken for the current state\n",
        "    result = []\n",
        "    if state+1 <= self.N:\n",
        "      result.append('walk')\n",
        "    if state*2 <= self.N:\n",
        "      result.append('tram')\n",
        "    return result\n",
        "\n",
        "  def succProbReward(self, state, action):\n",
        "    # return list of (newState, prob, reward) triplet\n",
        "    # state = s, action = a, newState = s`\n",
        "    # prob = T(s,a,s`), reward = Reward(s,a,s`)\n",
        "    result = []\n",
        "    if action == 'walk':\n",
        "      result.append((state+1, 1, -1))\n",
        "    elif action == 'tram':\n",
        "      failProb = 0.9\n",
        "      result.append((state*2, failProb, -2))\n",
        "      result.append((state, failProb, -2))\n",
        "    return result\n",
        "\n",
        "  def discount(self):\n",
        "    return 1\n",
        "  \n",
        "  def states(self):\n",
        "    return range(1, self.N+1)"
      ],
      "metadata": {
        "id": "5GSx1NYtQMKg"
      },
      "execution_count": 2,
      "outputs": []
    },
    {
      "cell_type": "code",
      "source": [
        "mdp = TransportationMDP(N=10)"
      ],
      "metadata": {
        "id": "vqA7rGmnQQP0"
      },
      "execution_count": 4,
      "outputs": []
    },
    {
      "cell_type": "code",
      "source": [
        "mdp.actions(3)"
      ],
      "metadata": {
        "colab": {
          "base_uri": "https://localhost:8080/"
        },
        "id": "6pA80ySnQUVC",
        "outputId": "e9976c04-6771-4f98-da01-7bb2fb9bc71d"
      },
      "execution_count": 5,
      "outputs": [
        {
          "output_type": "execute_result",
          "data": {
            "text/plain": [
              "['walk', 'tram']"
            ]
          },
          "metadata": {},
          "execution_count": 5
        }
      ]
    },
    {
      "cell_type": "code",
      "source": [
        "mdp.succProbReward(3,'walk')"
      ],
      "metadata": {
        "colab": {
          "base_uri": "https://localhost:8080/"
        },
        "id": "LKK2TjYIQWob",
        "outputId": "41df60b3-fc49-4b0f-9bea-7aa4d4fb5158"
      },
      "execution_count": 6,
      "outputs": [
        {
          "output_type": "execute_result",
          "data": {
            "text/plain": [
              "[(4, 1, -1)]"
            ]
          },
          "metadata": {},
          "execution_count": 6
        }
      ]
    },
    {
      "cell_type": "code",
      "source": [
        "mdp.succProbReward(3,'tram')"
      ],
      "metadata": {
        "colab": {
          "base_uri": "https://localhost:8080/"
        },
        "id": "ID-o0H0DQZuD",
        "outputId": "e6608147-9689-465d-ddf9-a7cc8bfdd880"
      },
      "execution_count": 7,
      "outputs": [
        {
          "output_type": "execute_result",
          "data": {
            "text/plain": [
              "[(6, 0.9, -2), (3, 0.9, -2)]"
            ]
          },
          "metadata": {},
          "execution_count": 7
        }
      ]
    },
    {
      "cell_type": "markdown",
      "source": [
        "# Value Iteration"
      ],
      "metadata": {
        "id": "uz_aMLhkPPHh"
      }
    },
    {
      "cell_type": "code",
      "source": [
        "def valueIteration(mdp):\n",
        "  #initialize\n",
        "  V = {} #state -> Vopt[state]\n",
        "  for state in mdp.states():\n",
        "    V[state] = 0\n",
        "  \n",
        "  def Q(state, action):\n",
        "    return sum( prob * (reward + mdp.discount() * V[newState])\n",
        "        for newState, prob, reward in mdp.succProbReward(state, action)\n",
        "    )\n",
        "  \n",
        "  while True:\n",
        "    #compute new values of newV given the old value V\n",
        "    newV = {}\n",
        "    for state in mdp.states():\n",
        "      if mdp.isEnd(state):\n",
        "        newV[state] = 0\n",
        "      else:\n",
        "        newV[state] = max( Q(state, action) for action in mdp.actions(state) )\n",
        "    \n",
        "    #check for convergence\n",
        "    if max( abs(V[state] -newV[state] ) for state in mdp.states() ) < 1e-10:\n",
        "      break\n",
        "\n",
        "    V = newV\n",
        "\n",
        "    #read out policy\n",
        "    pi = {}\n",
        "    for state in mdp.states():\n",
        "      if mdp.isEnd(state):\n",
        "        pi[state] = 'none'\n",
        "      else:\n",
        "        pi[state] =max(\n",
        "            ( Q(state, action), action) for action in mdp.actions(state)\n",
        "        ) [1]\n",
        "    \n",
        "    # print stuff out\n",
        "    print(\"{:15} {:15} {:15}\".format('s', 'V(s)', 'pi(s)'))\n",
        "    for state in mdp.states():\n",
        "      print(\"{:15} {:15} {:15}\".format(state, V[state], pi[state]))"
      ],
      "metadata": {
        "id": "fe-Dj4JpPQse"
      },
      "execution_count": 8,
      "outputs": []
    },
    {
      "cell_type": "code",
      "source": [
        "valueIteration(mdp)"
      ],
      "metadata": {
        "colab": {
          "base_uri": "https://localhost:8080/"
        },
        "id": "-R9Rdf39QnTo",
        "outputId": "c92ce722-ff4e-44a9-921d-c5dc2146e0b2"
      },
      "execution_count": 9,
      "outputs": [
        {
          "output_type": "stream",
          "name": "stdout",
          "text": [
            "s               V(s)            pi(s)          \n",
            "              1              -1 walk           \n",
            "              2              -1 walk           \n",
            "              3              -1 walk           \n",
            "              4              -1 walk           \n",
            "              5              -1 walk           \n",
            "              6              -1 walk           \n",
            "              7              -1 walk           \n",
            "              8              -1 walk           \n",
            "              9              -1 walk           \n",
            "             10               0 none           \n",
            "s               V(s)            pi(s)          \n",
            "              1              -2 walk           \n",
            "              2              -2 walk           \n",
            "              3              -2 walk           \n",
            "              4              -2 walk           \n",
            "              5              -2 walk           \n",
            "              6              -2 walk           \n",
            "              7              -2 walk           \n",
            "              8              -2 walk           \n",
            "              9              -1 walk           \n",
            "             10               0 none           \n",
            "s               V(s)            pi(s)          \n",
            "              1              -3 walk           \n",
            "              2              -3 walk           \n",
            "              3              -3 walk           \n",
            "              4              -3 walk           \n",
            "              5              -3 walk           \n",
            "              6              -3 walk           \n",
            "              7              -3 walk           \n",
            "              8              -2 walk           \n",
            "              9              -1 walk           \n",
            "             10               0 none           \n",
            "s               V(s)            pi(s)          \n",
            "              1              -4 walk           \n",
            "              2              -4 walk           \n",
            "              3              -4 walk           \n",
            "              4              -4 walk           \n",
            "              5              -4 walk           \n",
            "              6              -4 walk           \n",
            "              7              -3 walk           \n",
            "              8              -2 walk           \n",
            "              9              -1 walk           \n",
            "             10               0 none           \n",
            "s               V(s)            pi(s)          \n",
            "              1              -5 walk           \n",
            "              2              -5 walk           \n",
            "              3              -5 walk           \n",
            "              4              -5 walk           \n",
            "              5              -5 walk           \n",
            "              6              -4 walk           \n",
            "              7              -3 walk           \n",
            "              8              -2 walk           \n",
            "              9              -1 walk           \n",
            "             10               0 none           \n",
            "s               V(s)            pi(s)          \n",
            "              1              -6 walk           \n",
            "              2              -6 walk           \n",
            "              3              -6 walk           \n",
            "              4              -6 walk           \n",
            "              5              -5 walk           \n",
            "              6              -4 walk           \n",
            "              7              -3 walk           \n",
            "              8              -2 walk           \n",
            "              9              -1 walk           \n",
            "             10               0 none           \n",
            "s               V(s)            pi(s)          \n",
            "              1              -7 walk           \n",
            "              2              -7 walk           \n",
            "              3              -7 walk           \n",
            "              4              -6 walk           \n",
            "              5              -5 walk           \n",
            "              6              -4 walk           \n",
            "              7              -3 walk           \n",
            "              8              -2 walk           \n",
            "              9              -1 walk           \n",
            "             10               0 none           \n",
            "s               V(s)            pi(s)          \n",
            "              1              -8 walk           \n",
            "              2              -8 walk           \n",
            "              3              -7 walk           \n",
            "              4              -6 walk           \n",
            "              5              -5 walk           \n",
            "              6              -4 walk           \n",
            "              7              -3 walk           \n",
            "              8              -2 walk           \n",
            "              9              -1 walk           \n",
            "             10               0 none           \n",
            "s               V(s)            pi(s)          \n",
            "              1              -9 walk           \n",
            "              2              -8 walk           \n",
            "              3              -7 walk           \n",
            "              4              -6 walk           \n",
            "              5              -5 walk           \n",
            "              6              -4 walk           \n",
            "              7              -3 walk           \n",
            "              8              -2 walk           \n",
            "              9              -1 walk           \n",
            "             10               0 none           \n"
          ]
        }
      ]
    },
    {
      "cell_type": "code",
      "source": [
        ""
      ],
      "metadata": {
        "id": "D0n85kbWQp7Y"
      },
      "execution_count": null,
      "outputs": []
    }
  ]
}